{
 "cells": [
  {
   "cell_type": "markdown",
   "metadata": {},
   "source": [
    "## <center> **Titanic-Survivors Analysis**"
   ]
  },
  {
   "cell_type": "markdown",
   "metadata": {},
   "source": [
    "The sinking of the Titanic is one of the most infamous shipwrecks in history.\n",
    "\n",
    "On April 15, 1912, during her maiden voyage, the widely considered “unsinkable” RMS Titanic sank after colliding with an iceberg. Unfortunately, there weren’t enough lifeboats for everyone onboard, resulting in the death of 1502 out of 2224 passengers and crew.\n",
    "\n",
    "While there was some element of luck involved in surviving, it seems some groups of people were more likely to survive than others.\n",
    "\n",
    "![title](img/Titanic.jpeg)"
   ]
  },
  {
   "cell_type": "markdown",
   "metadata": {},
   "source": [
    "### Project Motivation\n",
    "\n",
    "With this analysis, I wanted to confirm some thoughts I had after I watched the movie Titanic.\n",
    "\n",
    "1. In the movie it was shown that women and children were first sent on life boats when the Titanic sunk. I want to confirm whether the data gave the same outcome and that there was a better chance of survival if you were a female or had a child.\n",
    "2. Similar to the above one, whether there was a better chance of survival if you were from the first class?\n",
    "3. What factors contributed most to the survival of passengers on the Titanic?\n",
    "4. Given a new passenger on the Titanic, with what certainty can my model predict whether the passenger can survive or not?"
   ]
  },
  {
   "cell_type": "markdown",
   "metadata": {},
   "source": [
    "### <center> Data Wrangling - Gathering, Assessing and Cleaning"
   ]
  },
  {
   "cell_type": "code",
   "execution_count": 1,
   "metadata": {
    "_cell_guid": "b1076dfc-b9ad-4769-8c92-a6c4dae69d19",
    "_uuid": "8f2839f25d086af736a60e9eeb907d3b93b6e0e5",
    "execution": {
     "iopub.execute_input": "2021-01-31T05:11:05.918108Z",
     "iopub.status.busy": "2021-01-31T05:11:05.917015Z",
     "iopub.status.idle": "2021-01-31T05:11:05.923610Z",
     "shell.execute_reply": "2021-01-31T05:11:05.922892Z"
    },
    "papermill": {
     "duration": 0.062592,
     "end_time": "2021-01-31T05:11:05.923820",
     "exception": false,
     "start_time": "2021-01-31T05:11:05.861228",
     "status": "completed"
    },
    "tags": []
   },
   "outputs": [],
   "source": [
    "# import numpy and pandas packages\n",
    "import numpy as np\n",
    "import pandas as pd"
   ]
  },
  {
   "cell_type": "code",
   "execution_count": 2,
   "metadata": {
    "execution": {
     "iopub.execute_input": "2021-01-31T05:11:06.021039Z",
     "iopub.status.busy": "2021-01-31T05:11:06.020411Z",
     "iopub.status.idle": "2021-01-31T05:11:06.047740Z",
     "shell.execute_reply": "2021-01-31T05:11:06.046986Z"
    },
    "papermill": {
     "duration": 0.077652,
     "end_time": "2021-01-31T05:11:06.047883",
     "exception": false,
     "start_time": "2021-01-31T05:11:05.970231",
     "status": "completed"
    },
    "tags": []
   },
   "outputs": [],
   "source": [
    "# read train and test data\n",
    "train_df = pd.read_csv('train.csv')\n",
    "test_df = pd.read_csv('test.csv')"
   ]
  },
  {
   "cell_type": "markdown",
   "metadata": {},
   "source": [
    "### Visual Assessment of train and test data"
   ]
  },
  {
   "cell_type": "code",
   "execution_count": 3,
   "metadata": {
    "execution": {
     "iopub.execute_input": "2021-01-31T05:11:06.156002Z",
     "iopub.status.busy": "2021-01-31T05:11:06.155390Z",
     "iopub.status.idle": "2021-01-31T05:11:06.181756Z",
     "shell.execute_reply": "2021-01-31T05:11:06.182284Z"
    },
    "papermill": {
     "duration": 0.088515,
     "end_time": "2021-01-31T05:11:06.182464",
     "exception": false,
     "start_time": "2021-01-31T05:11:06.093949",
     "status": "completed"
    },
    "tags": []
   },
   "outputs": [
    {
     "data": {
      "text/html": [
       "<div>\n",
       "<style scoped>\n",
       "    .dataframe tbody tr th:only-of-type {\n",
       "        vertical-align: middle;\n",
       "    }\n",
       "\n",
       "    .dataframe tbody tr th {\n",
       "        vertical-align: top;\n",
       "    }\n",
       "\n",
       "    .dataframe thead th {\n",
       "        text-align: right;\n",
       "    }\n",
       "</style>\n",
       "<table border=\"1\" class=\"dataframe\">\n",
       "  <thead>\n",
       "    <tr style=\"text-align: right;\">\n",
       "      <th></th>\n",
       "      <th>PassengerId</th>\n",
       "      <th>Survived</th>\n",
       "      <th>Pclass</th>\n",
       "      <th>Name</th>\n",
       "      <th>Sex</th>\n",
       "      <th>Age</th>\n",
       "      <th>SibSp</th>\n",
       "      <th>Parch</th>\n",
       "      <th>Ticket</th>\n",
       "      <th>Fare</th>\n",
       "      <th>Cabin</th>\n",
       "      <th>Embarked</th>\n",
       "    </tr>\n",
       "  </thead>\n",
       "  <tbody>\n",
       "    <tr>\n",
       "      <th>0</th>\n",
       "      <td>1</td>\n",
       "      <td>0</td>\n",
       "      <td>3</td>\n",
       "      <td>Braund, Mr. Owen Harris</td>\n",
       "      <td>male</td>\n",
       "      <td>22.0</td>\n",
       "      <td>1</td>\n",
       "      <td>0</td>\n",
       "      <td>A/5 21171</td>\n",
       "      <td>7.2500</td>\n",
       "      <td>NaN</td>\n",
       "      <td>S</td>\n",
       "    </tr>\n",
       "    <tr>\n",
       "      <th>1</th>\n",
       "      <td>2</td>\n",
       "      <td>1</td>\n",
       "      <td>1</td>\n",
       "      <td>Cumings, Mrs. John Bradley (Florence Briggs Th...</td>\n",
       "      <td>female</td>\n",
       "      <td>38.0</td>\n",
       "      <td>1</td>\n",
       "      <td>0</td>\n",
       "      <td>PC 17599</td>\n",
       "      <td>71.2833</td>\n",
       "      <td>C85</td>\n",
       "      <td>C</td>\n",
       "    </tr>\n",
       "    <tr>\n",
       "      <th>2</th>\n",
       "      <td>3</td>\n",
       "      <td>1</td>\n",
       "      <td>3</td>\n",
       "      <td>Heikkinen, Miss. Laina</td>\n",
       "      <td>female</td>\n",
       "      <td>26.0</td>\n",
       "      <td>0</td>\n",
       "      <td>0</td>\n",
       "      <td>STON/O2. 3101282</td>\n",
       "      <td>7.9250</td>\n",
       "      <td>NaN</td>\n",
       "      <td>S</td>\n",
       "    </tr>\n",
       "    <tr>\n",
       "      <th>3</th>\n",
       "      <td>4</td>\n",
       "      <td>1</td>\n",
       "      <td>1</td>\n",
       "      <td>Futrelle, Mrs. Jacques Heath (Lily May Peel)</td>\n",
       "      <td>female</td>\n",
       "      <td>35.0</td>\n",
       "      <td>1</td>\n",
       "      <td>0</td>\n",
       "      <td>113803</td>\n",
       "      <td>53.1000</td>\n",
       "      <td>C123</td>\n",
       "      <td>S</td>\n",
       "    </tr>\n",
       "    <tr>\n",
       "      <th>4</th>\n",
       "      <td>5</td>\n",
       "      <td>0</td>\n",
       "      <td>3</td>\n",
       "      <td>Allen, Mr. William Henry</td>\n",
       "      <td>male</td>\n",
       "      <td>35.0</td>\n",
       "      <td>0</td>\n",
       "      <td>0</td>\n",
       "      <td>373450</td>\n",
       "      <td>8.0500</td>\n",
       "      <td>NaN</td>\n",
       "      <td>S</td>\n",
       "    </tr>\n",
       "  </tbody>\n",
       "</table>\n",
       "</div>"
      ],
      "text/plain": [
       "   PassengerId  Survived  Pclass  \\\n",
       "0            1         0       3   \n",
       "1            2         1       1   \n",
       "2            3         1       3   \n",
       "3            4         1       1   \n",
       "4            5         0       3   \n",
       "\n",
       "                                                Name     Sex   Age  SibSp  \\\n",
       "0                            Braund, Mr. Owen Harris    male  22.0      1   \n",
       "1  Cumings, Mrs. John Bradley (Florence Briggs Th...  female  38.0      1   \n",
       "2                             Heikkinen, Miss. Laina  female  26.0      0   \n",
       "3       Futrelle, Mrs. Jacques Heath (Lily May Peel)  female  35.0      1   \n",
       "4                           Allen, Mr. William Henry    male  35.0      0   \n",
       "\n",
       "   Parch            Ticket     Fare Cabin Embarked  \n",
       "0      0         A/5 21171   7.2500   NaN        S  \n",
       "1      0          PC 17599  71.2833   C85        C  \n",
       "2      0  STON/O2. 3101282   7.9250   NaN        S  \n",
       "3      0            113803  53.1000  C123        S  \n",
       "4      0            373450   8.0500   NaN        S  "
      ]
     },
     "execution_count": 3,
     "metadata": {},
     "output_type": "execute_result"
    }
   ],
   "source": [
    "train_df.head()"
   ]
  },
  {
   "cell_type": "code",
   "execution_count": 4,
   "metadata": {
    "execution": {
     "iopub.execute_input": "2021-01-31T05:11:06.293422Z",
     "iopub.status.busy": "2021-01-31T05:11:06.292438Z",
     "iopub.status.idle": "2021-01-31T05:11:06.298092Z",
     "shell.execute_reply": "2021-01-31T05:11:06.297414Z"
    },
    "papermill": {
     "duration": 0.068323,
     "end_time": "2021-01-31T05:11:06.298260",
     "exception": false,
     "start_time": "2021-01-31T05:11:06.229937",
     "status": "completed"
    },
    "scrolled": true,
    "tags": []
   },
   "outputs": [
    {
     "data": {
      "text/html": [
       "<div>\n",
       "<style scoped>\n",
       "    .dataframe tbody tr th:only-of-type {\n",
       "        vertical-align: middle;\n",
       "    }\n",
       "\n",
       "    .dataframe tbody tr th {\n",
       "        vertical-align: top;\n",
       "    }\n",
       "\n",
       "    .dataframe thead th {\n",
       "        text-align: right;\n",
       "    }\n",
       "</style>\n",
       "<table border=\"1\" class=\"dataframe\">\n",
       "  <thead>\n",
       "    <tr style=\"text-align: right;\">\n",
       "      <th></th>\n",
       "      <th>PassengerId</th>\n",
       "      <th>Pclass</th>\n",
       "      <th>Name</th>\n",
       "      <th>Sex</th>\n",
       "      <th>Age</th>\n",
       "      <th>SibSp</th>\n",
       "      <th>Parch</th>\n",
       "      <th>Ticket</th>\n",
       "      <th>Fare</th>\n",
       "      <th>Cabin</th>\n",
       "      <th>Embarked</th>\n",
       "    </tr>\n",
       "  </thead>\n",
       "  <tbody>\n",
       "    <tr>\n",
       "      <th>0</th>\n",
       "      <td>892</td>\n",
       "      <td>3</td>\n",
       "      <td>Kelly, Mr. James</td>\n",
       "      <td>male</td>\n",
       "      <td>34.5</td>\n",
       "      <td>0</td>\n",
       "      <td>0</td>\n",
       "      <td>330911</td>\n",
       "      <td>7.8292</td>\n",
       "      <td>NaN</td>\n",
       "      <td>Q</td>\n",
       "    </tr>\n",
       "    <tr>\n",
       "      <th>1</th>\n",
       "      <td>893</td>\n",
       "      <td>3</td>\n",
       "      <td>Wilkes, Mrs. James (Ellen Needs)</td>\n",
       "      <td>female</td>\n",
       "      <td>47.0</td>\n",
       "      <td>1</td>\n",
       "      <td>0</td>\n",
       "      <td>363272</td>\n",
       "      <td>7.0000</td>\n",
       "      <td>NaN</td>\n",
       "      <td>S</td>\n",
       "    </tr>\n",
       "    <tr>\n",
       "      <th>2</th>\n",
       "      <td>894</td>\n",
       "      <td>2</td>\n",
       "      <td>Myles, Mr. Thomas Francis</td>\n",
       "      <td>male</td>\n",
       "      <td>62.0</td>\n",
       "      <td>0</td>\n",
       "      <td>0</td>\n",
       "      <td>240276</td>\n",
       "      <td>9.6875</td>\n",
       "      <td>NaN</td>\n",
       "      <td>Q</td>\n",
       "    </tr>\n",
       "    <tr>\n",
       "      <th>3</th>\n",
       "      <td>895</td>\n",
       "      <td>3</td>\n",
       "      <td>Wirz, Mr. Albert</td>\n",
       "      <td>male</td>\n",
       "      <td>27.0</td>\n",
       "      <td>0</td>\n",
       "      <td>0</td>\n",
       "      <td>315154</td>\n",
       "      <td>8.6625</td>\n",
       "      <td>NaN</td>\n",
       "      <td>S</td>\n",
       "    </tr>\n",
       "    <tr>\n",
       "      <th>4</th>\n",
       "      <td>896</td>\n",
       "      <td>3</td>\n",
       "      <td>Hirvonen, Mrs. Alexander (Helga E Lindqvist)</td>\n",
       "      <td>female</td>\n",
       "      <td>22.0</td>\n",
       "      <td>1</td>\n",
       "      <td>1</td>\n",
       "      <td>3101298</td>\n",
       "      <td>12.2875</td>\n",
       "      <td>NaN</td>\n",
       "      <td>S</td>\n",
       "    </tr>\n",
       "  </tbody>\n",
       "</table>\n",
       "</div>"
      ],
      "text/plain": [
       "   PassengerId  Pclass                                          Name     Sex  \\\n",
       "0          892       3                              Kelly, Mr. James    male   \n",
       "1          893       3              Wilkes, Mrs. James (Ellen Needs)  female   \n",
       "2          894       2                     Myles, Mr. Thomas Francis    male   \n",
       "3          895       3                              Wirz, Mr. Albert    male   \n",
       "4          896       3  Hirvonen, Mrs. Alexander (Helga E Lindqvist)  female   \n",
       "\n",
       "    Age  SibSp  Parch   Ticket     Fare Cabin Embarked  \n",
       "0  34.5      0      0   330911   7.8292   NaN        Q  \n",
       "1  47.0      1      0   363272   7.0000   NaN        S  \n",
       "2  62.0      0      0   240276   9.6875   NaN        Q  \n",
       "3  27.0      0      0   315154   8.6625   NaN        S  \n",
       "4  22.0      1      1  3101298  12.2875   NaN        S  "
      ]
     },
     "execution_count": 4,
     "metadata": {},
     "output_type": "execute_result"
    }
   ],
   "source": [
    "test_df.head()"
   ]
  },
  {
   "cell_type": "markdown",
   "metadata": {},
   "source": [
    "### Combine train and test data to perform Data Cleaning"
   ]
  },
  {
   "cell_type": "code",
   "execution_count": 5,
   "metadata": {
    "execution": {
     "iopub.execute_input": "2021-01-31T05:11:06.397596Z",
     "iopub.status.busy": "2021-01-31T05:11:06.396913Z",
     "iopub.status.idle": "2021-01-31T05:11:06.399715Z",
     "shell.execute_reply": "2021-01-31T05:11:06.400249Z"
    },
    "papermill": {
     "duration": 0.054998,
     "end_time": "2021-01-31T05:11:06.400425",
     "exception": false,
     "start_time": "2021-01-31T05:11:06.345427",
     "status": "completed"
    },
    "tags": []
   },
   "outputs": [],
   "source": [
    "combine = [train_df, test_df]"
   ]
  },
  {
   "cell_type": "code",
   "execution_count": 6,
   "metadata": {
    "execution": {
     "iopub.execute_input": "2021-01-31T05:11:06.522394Z",
     "iopub.status.busy": "2021-01-31T05:11:06.521497Z",
     "iopub.status.idle": "2021-01-31T05:11:06.525738Z",
     "shell.execute_reply": "2021-01-31T05:11:06.526601Z"
    },
    "papermill": {
     "duration": 0.076681,
     "end_time": "2021-01-31T05:11:06.526846",
     "exception": false,
     "start_time": "2021-01-31T05:11:06.450165",
     "status": "completed"
    },
    "tags": []
   },
   "outputs": [
    {
     "name": "stdout",
     "output_type": "stream",
     "text": [
      "<class 'pandas.core.frame.DataFrame'>\n",
      "RangeIndex: 891 entries, 0 to 890\n",
      "Data columns (total 12 columns):\n",
      " #   Column       Non-Null Count  Dtype  \n",
      "---  ------       --------------  -----  \n",
      " 0   PassengerId  891 non-null    int64  \n",
      " 1   Survived     891 non-null    int64  \n",
      " 2   Pclass       891 non-null    int64  \n",
      " 3   Name         891 non-null    object \n",
      " 4   Sex          891 non-null    object \n",
      " 5   Age          714 non-null    float64\n",
      " 6   SibSp        891 non-null    int64  \n",
      " 7   Parch        891 non-null    int64  \n",
      " 8   Ticket       891 non-null    object \n",
      " 9   Fare         891 non-null    float64\n",
      " 10  Cabin        204 non-null    object \n",
      " 11  Embarked     889 non-null    object \n",
      "dtypes: float64(2), int64(5), object(5)\n",
      "memory usage: 83.7+ KB\n"
     ]
    }
   ],
   "source": [
    "train_df.info()"
   ]
  },
  {
   "cell_type": "code",
   "execution_count": 7,
   "metadata": {
    "execution": {
     "iopub.execute_input": "2021-01-31T05:11:06.640037Z",
     "iopub.status.busy": "2021-01-31T05:11:06.639103Z",
     "iopub.status.idle": "2021-01-31T05:11:06.644322Z",
     "shell.execute_reply": "2021-01-31T05:11:06.643754Z"
    },
    "papermill": {
     "duration": 0.067717,
     "end_time": "2021-01-31T05:11:06.644462",
     "exception": false,
     "start_time": "2021-01-31T05:11:06.576745",
     "status": "completed"
    },
    "scrolled": true,
    "tags": []
   },
   "outputs": [
    {
     "name": "stdout",
     "output_type": "stream",
     "text": [
      "<class 'pandas.core.frame.DataFrame'>\n",
      "RangeIndex: 418 entries, 0 to 417\n",
      "Data columns (total 11 columns):\n",
      " #   Column       Non-Null Count  Dtype  \n",
      "---  ------       --------------  -----  \n",
      " 0   PassengerId  418 non-null    int64  \n",
      " 1   Pclass       418 non-null    int64  \n",
      " 2   Name         418 non-null    object \n",
      " 3   Sex          418 non-null    object \n",
      " 4   Age          332 non-null    float64\n",
      " 5   SibSp        418 non-null    int64  \n",
      " 6   Parch        418 non-null    int64  \n",
      " 7   Ticket       418 non-null    object \n",
      " 8   Fare         417 non-null    float64\n",
      " 9   Cabin        91 non-null     object \n",
      " 10  Embarked     418 non-null    object \n",
      "dtypes: float64(2), int64(4), object(5)\n",
      "memory usage: 36.0+ KB\n"
     ]
    }
   ],
   "source": [
    "test_df.info()"
   ]
  },
  {
   "cell_type": "markdown",
   "metadata": {},
   "source": [
    "### Handling Missing Values"
   ]
  },
  {
   "cell_type": "code",
   "execution_count": 8,
   "metadata": {
    "execution": {
     "iopub.execute_input": "2021-01-31T05:11:06.751477Z",
     "iopub.status.busy": "2021-01-31T05:11:06.750764Z",
     "iopub.status.idle": "2021-01-31T05:11:06.755470Z",
     "shell.execute_reply": "2021-01-31T05:11:06.754974Z"
    },
    "papermill": {
     "duration": 0.061783,
     "end_time": "2021-01-31T05:11:06.755607",
     "exception": false,
     "start_time": "2021-01-31T05:11:06.693824",
     "status": "completed"
    },
    "tags": []
   },
   "outputs": [
    {
     "data": {
      "text/plain": [
       "PassengerId      0\n",
       "Survived         0\n",
       "Pclass           0\n",
       "Name             0\n",
       "Sex              0\n",
       "Age            177\n",
       "SibSp            0\n",
       "Parch            0\n",
       "Ticket           0\n",
       "Fare             0\n",
       "Cabin          687\n",
       "Embarked         2\n",
       "dtype: int64"
      ]
     },
     "execution_count": 8,
     "metadata": {},
     "output_type": "execute_result"
    }
   ],
   "source": [
    "train_df.isnull().sum()"
   ]
  },
  {
   "cell_type": "code",
   "execution_count": 9,
   "metadata": {
    "execution": {
     "iopub.execute_input": "2021-01-31T05:11:06.861117Z",
     "iopub.status.busy": "2021-01-31T05:11:06.860494Z",
     "iopub.status.idle": "2021-01-31T05:11:06.864274Z",
     "shell.execute_reply": "2021-01-31T05:11:06.863642Z"
    },
    "papermill": {
     "duration": 0.060276,
     "end_time": "2021-01-31T05:11:06.864415",
     "exception": false,
     "start_time": "2021-01-31T05:11:06.804139",
     "status": "completed"
    },
    "scrolled": true,
    "tags": []
   },
   "outputs": [
    {
     "data": {
      "text/plain": [
       "PassengerId      0\n",
       "Pclass           0\n",
       "Name             0\n",
       "Sex              0\n",
       "Age             86\n",
       "SibSp            0\n",
       "Parch            0\n",
       "Ticket           0\n",
       "Fare             1\n",
       "Cabin          327\n",
       "Embarked         0\n",
       "dtype: int64"
      ]
     },
     "execution_count": 9,
     "metadata": {},
     "output_type": "execute_result"
    }
   ],
   "source": [
    "test_df.isnull().sum()"
   ]
  },
  {
   "cell_type": "markdown",
   "metadata": {},
   "source": [
    "As we can see from the data, \n",
    "* **Age, Cabin, Embarked** columns have missing values in training data. \n",
    "* **Age, Cabin, Fare** columns have missing values in testing data. \n",
    "\n",
    "So we will fill the missing values using the following approach:\n",
    "\n",
    "* For **Age** we replace the missing values with the median value of Age of people on Titanic\n",
    "* For **Fare** we replace the missing values with the median value of ticket Fare paid by people on Titanic"
   ]
  },
  {
   "cell_type": "code",
   "execution_count": 10,
   "metadata": {
    "execution": {
     "iopub.execute_input": "2021-01-31T05:11:06.970910Z",
     "iopub.status.busy": "2021-01-31T05:11:06.970047Z",
     "iopub.status.idle": "2021-01-31T05:11:06.972489Z",
     "shell.execute_reply": "2021-01-31T05:11:06.973131Z"
    },
    "papermill": {
     "duration": 0.059693,
     "end_time": "2021-01-31T05:11:06.973344",
     "exception": false,
     "start_time": "2021-01-31T05:11:06.913651",
     "status": "completed"
    },
    "tags": []
   },
   "outputs": [],
   "source": [
    "for dataset in combine:\n",
    "    age_median = dataset['Age'].dropna(inplace=False).median()\n",
    "    dataset['Age'] = dataset['Age'].fillna(age_median)"
   ]
  },
  {
   "cell_type": "code",
   "execution_count": 11,
   "metadata": {
    "execution": {
     "iopub.execute_input": "2021-01-31T05:11:07.079638Z",
     "iopub.status.busy": "2021-01-31T05:11:07.078595Z",
     "iopub.status.idle": "2021-01-31T05:11:07.083782Z",
     "shell.execute_reply": "2021-01-31T05:11:07.083230Z"
    },
    "papermill": {
     "duration": 0.060217,
     "end_time": "2021-01-31T05:11:07.083926",
     "exception": false,
     "start_time": "2021-01-31T05:11:07.023709",
     "status": "completed"
    },
    "tags": []
   },
   "outputs": [
    {
     "name": "stdout",
     "output_type": "stream",
     "text": [
      "14.4542\n"
     ]
    }
   ],
   "source": [
    "for dataset in combine:\n",
    "    fare_median = dataset['Fare'].dropna(inplace=False).median()\n",
    "    dataset['Fare'] = dataset['Fare'].fillna(fare_median)\n",
    "print(fare_median)"
   ]
  },
  {
   "cell_type": "markdown",
   "metadata": {},
   "source": [
    "* For **Embarked** we replace the missing values with the mode value - which is the port where most people boarded the Titanic "
   ]
  },
  {
   "cell_type": "code",
   "execution_count": 12,
   "metadata": {
    "execution": {
     "iopub.execute_input": "2021-01-31T05:11:07.193929Z",
     "iopub.status.busy": "2021-01-31T05:11:07.193227Z",
     "iopub.status.idle": "2021-01-31T05:11:07.196313Z",
     "shell.execute_reply": "2021-01-31T05:11:07.195704Z"
    },
    "papermill": {
     "duration": 0.061366,
     "end_time": "2021-01-31T05:11:07.196460",
     "exception": false,
     "start_time": "2021-01-31T05:11:07.135094",
     "status": "completed"
    },
    "tags": []
   },
   "outputs": [
    {
     "name": "stdout",
     "output_type": "stream",
     "text": [
      "S\n"
     ]
    }
   ],
   "source": [
    "for dataset in combine:\n",
    "    embarked_mode = dataset['Embarked'].dropna(inplace=False).mode()[0]\n",
    "    dataset['Embarked'] = dataset['Embarked'].fillna(embarked_mode)\n",
    "print(embarked_mode)    "
   ]
  },
  {
   "cell_type": "markdown",
   "metadata": {},
   "source": [
    "* Since **Cabin** has a lot of missing values in the training data 687 out of 891, we would be dropping the **Cabin** column"
   ]
  },
  {
   "cell_type": "code",
   "execution_count": 13,
   "metadata": {},
   "outputs": [],
   "source": [
    "for dataset in combine:\n",
    "    dataset.drop(['Cabin'],axis=1,inplace=True)"
   ]
  },
  {
   "cell_type": "code",
   "execution_count": 14,
   "metadata": {
    "execution": {
     "iopub.execute_input": "2021-01-31T05:11:07.307674Z",
     "iopub.status.busy": "2021-01-31T05:11:07.306638Z",
     "iopub.status.idle": "2021-01-31T05:11:07.311236Z",
     "shell.execute_reply": "2021-01-31T05:11:07.310658Z"
    },
    "papermill": {
     "duration": 0.063893,
     "end_time": "2021-01-31T05:11:07.311376",
     "exception": false,
     "start_time": "2021-01-31T05:11:07.247483",
     "status": "completed"
    },
    "tags": []
   },
   "outputs": [
    {
     "data": {
      "text/plain": [
       "PassengerId    0\n",
       "Survived       0\n",
       "Pclass         0\n",
       "Name           0\n",
       "Sex            0\n",
       "Age            0\n",
       "SibSp          0\n",
       "Parch          0\n",
       "Ticket         0\n",
       "Fare           0\n",
       "Embarked       0\n",
       "dtype: int64"
      ]
     },
     "execution_count": 14,
     "metadata": {},
     "output_type": "execute_result"
    }
   ],
   "source": [
    "# Checking if all missing values are handled\n",
    "train_df.isnull().sum()"
   ]
  },
  {
   "cell_type": "markdown",
   "metadata": {},
   "source": [
    "### Make a copy of our datasets"
   ]
  },
  {
   "cell_type": "code",
   "execution_count": 15,
   "metadata": {},
   "outputs": [],
   "source": [
    "train_df_copy = train_df.copy('deep')\n",
    "test_df_copy = test_df.copy('deep')\n",
    "combine_copy = [train_df_copy, test_df_copy]"
   ]
  },
  {
   "cell_type": "markdown",
   "metadata": {},
   "source": [
    "### Handling Categorical Variables"
   ]
  },
  {
   "cell_type": "markdown",
   "metadata": {},
   "source": [
    "As our models work well with Numerical Data, we need to handle the Categorical variables by converting them into Numerical Variables. \n",
    "\n",
    "Let's take a look at the **Sex and Embarked** Categorical Variables. We will be using the **Label Encoder** provided by **scikit learn - preprocessing** package to convert these categorical variables to numerical variables"
   ]
  },
  {
   "cell_type": "code",
   "execution_count": 16,
   "metadata": {
    "execution": {
     "iopub.execute_input": "2021-01-31T05:11:07.417702Z",
     "iopub.status.busy": "2021-01-31T05:11:07.417019Z",
     "iopub.status.idle": "2021-01-31T05:11:08.403023Z",
     "shell.execute_reply": "2021-01-31T05:11:08.402442Z"
    },
    "papermill": {
     "duration": 1.041075,
     "end_time": "2021-01-31T05:11:08.403190",
     "exception": false,
     "start_time": "2021-01-31T05:11:07.362115",
     "status": "completed"
    },
    "tags": []
   },
   "outputs": [],
   "source": [
    "# import LabelEncoder from sklearn.preprocessing\n",
    "import sklearn\n",
    "from sklearn.preprocessing import LabelEncoder"
   ]
  },
  {
   "cell_type": "code",
   "execution_count": 17,
   "metadata": {
    "execution": {
     "iopub.execute_input": "2021-01-31T05:11:08.521984Z",
     "iopub.status.busy": "2021-01-31T05:11:08.521048Z",
     "iopub.status.idle": "2021-01-31T05:11:08.532161Z",
     "shell.execute_reply": "2021-01-31T05:11:08.532746Z"
    },
    "papermill": {
     "duration": 0.074944,
     "end_time": "2021-01-31T05:11:08.532978",
     "exception": false,
     "start_time": "2021-01-31T05:11:08.458034",
     "status": "completed"
    },
    "tags": []
   },
   "outputs": [],
   "source": [
    "# Using fit_transform method of LabelEncoder to generate numerical equivalents of our categorical variables\n",
    "le = LabelEncoder()\n",
    "\n",
    "for dataset in combine:\n",
    "    dataset['Embarked_Code'] = le.fit_transform(dataset['Embarked'])\n",
    "    dataset['Sex_Code'] = le.fit_transform(dataset['Sex'])"
   ]
  },
  {
   "cell_type": "code",
   "execution_count": 18,
   "metadata": {
    "execution": {
     "iopub.execute_input": "2021-01-31T05:11:08.659080Z",
     "iopub.status.busy": "2021-01-31T05:11:08.658456Z",
     "iopub.status.idle": "2021-01-31T05:11:08.676000Z",
     "shell.execute_reply": "2021-01-31T05:11:08.676504Z"
    },
    "papermill": {
     "duration": 0.073346,
     "end_time": "2021-01-31T05:11:08.676687",
     "exception": false,
     "start_time": "2021-01-31T05:11:08.603341",
     "status": "completed"
    },
    "tags": []
   },
   "outputs": [
    {
     "data": {
      "text/html": [
       "<div>\n",
       "<style scoped>\n",
       "    .dataframe tbody tr th:only-of-type {\n",
       "        vertical-align: middle;\n",
       "    }\n",
       "\n",
       "    .dataframe tbody tr th {\n",
       "        vertical-align: top;\n",
       "    }\n",
       "\n",
       "    .dataframe thead th {\n",
       "        text-align: right;\n",
       "    }\n",
       "</style>\n",
       "<table border=\"1\" class=\"dataframe\">\n",
       "  <thead>\n",
       "    <tr style=\"text-align: right;\">\n",
       "      <th></th>\n",
       "      <th>PassengerId</th>\n",
       "      <th>Survived</th>\n",
       "      <th>Pclass</th>\n",
       "      <th>Name</th>\n",
       "      <th>Sex</th>\n",
       "      <th>Age</th>\n",
       "      <th>SibSp</th>\n",
       "      <th>Parch</th>\n",
       "      <th>Ticket</th>\n",
       "      <th>Fare</th>\n",
       "      <th>Embarked</th>\n",
       "      <th>Embarked_Code</th>\n",
       "      <th>Sex_Code</th>\n",
       "    </tr>\n",
       "  </thead>\n",
       "  <tbody>\n",
       "    <tr>\n",
       "      <th>0</th>\n",
       "      <td>1</td>\n",
       "      <td>0</td>\n",
       "      <td>3</td>\n",
       "      <td>Braund, Mr. Owen Harris</td>\n",
       "      <td>male</td>\n",
       "      <td>22.0</td>\n",
       "      <td>1</td>\n",
       "      <td>0</td>\n",
       "      <td>A/5 21171</td>\n",
       "      <td>7.2500</td>\n",
       "      <td>S</td>\n",
       "      <td>2</td>\n",
       "      <td>1</td>\n",
       "    </tr>\n",
       "    <tr>\n",
       "      <th>1</th>\n",
       "      <td>2</td>\n",
       "      <td>1</td>\n",
       "      <td>1</td>\n",
       "      <td>Cumings, Mrs. John Bradley (Florence Briggs Th...</td>\n",
       "      <td>female</td>\n",
       "      <td>38.0</td>\n",
       "      <td>1</td>\n",
       "      <td>0</td>\n",
       "      <td>PC 17599</td>\n",
       "      <td>71.2833</td>\n",
       "      <td>C</td>\n",
       "      <td>0</td>\n",
       "      <td>0</td>\n",
       "    </tr>\n",
       "    <tr>\n",
       "      <th>2</th>\n",
       "      <td>3</td>\n",
       "      <td>1</td>\n",
       "      <td>3</td>\n",
       "      <td>Heikkinen, Miss. Laina</td>\n",
       "      <td>female</td>\n",
       "      <td>26.0</td>\n",
       "      <td>0</td>\n",
       "      <td>0</td>\n",
       "      <td>STON/O2. 3101282</td>\n",
       "      <td>7.9250</td>\n",
       "      <td>S</td>\n",
       "      <td>2</td>\n",
       "      <td>0</td>\n",
       "    </tr>\n",
       "    <tr>\n",
       "      <th>3</th>\n",
       "      <td>4</td>\n",
       "      <td>1</td>\n",
       "      <td>1</td>\n",
       "      <td>Futrelle, Mrs. Jacques Heath (Lily May Peel)</td>\n",
       "      <td>female</td>\n",
       "      <td>35.0</td>\n",
       "      <td>1</td>\n",
       "      <td>0</td>\n",
       "      <td>113803</td>\n",
       "      <td>53.1000</td>\n",
       "      <td>S</td>\n",
       "      <td>2</td>\n",
       "      <td>0</td>\n",
       "    </tr>\n",
       "    <tr>\n",
       "      <th>4</th>\n",
       "      <td>5</td>\n",
       "      <td>0</td>\n",
       "      <td>3</td>\n",
       "      <td>Allen, Mr. William Henry</td>\n",
       "      <td>male</td>\n",
       "      <td>35.0</td>\n",
       "      <td>0</td>\n",
       "      <td>0</td>\n",
       "      <td>373450</td>\n",
       "      <td>8.0500</td>\n",
       "      <td>S</td>\n",
       "      <td>2</td>\n",
       "      <td>1</td>\n",
       "    </tr>\n",
       "  </tbody>\n",
       "</table>\n",
       "</div>"
      ],
      "text/plain": [
       "   PassengerId  Survived  Pclass  \\\n",
       "0            1         0       3   \n",
       "1            2         1       1   \n",
       "2            3         1       3   \n",
       "3            4         1       1   \n",
       "4            5         0       3   \n",
       "\n",
       "                                                Name     Sex   Age  SibSp  \\\n",
       "0                            Braund, Mr. Owen Harris    male  22.0      1   \n",
       "1  Cumings, Mrs. John Bradley (Florence Briggs Th...  female  38.0      1   \n",
       "2                             Heikkinen, Miss. Laina  female  26.0      0   \n",
       "3       Futrelle, Mrs. Jacques Heath (Lily May Peel)  female  35.0      1   \n",
       "4                           Allen, Mr. William Henry    male  35.0      0   \n",
       "\n",
       "   Parch            Ticket     Fare Embarked  Embarked_Code  Sex_Code  \n",
       "0      0         A/5 21171   7.2500        S              2         1  \n",
       "1      0          PC 17599  71.2833        C              0         0  \n",
       "2      0  STON/O2. 3101282   7.9250        S              2         0  \n",
       "3      0            113803  53.1000        S              2         0  \n",
       "4      0            373450   8.0500        S              2         1  "
      ]
     },
     "execution_count": 18,
     "metadata": {},
     "output_type": "execute_result"
    }
   ],
   "source": [
    "train_df.head()"
   ]
  },
  {
   "cell_type": "code",
   "execution_count": 19,
   "metadata": {},
   "outputs": [
    {
     "data": {
      "text/html": [
       "<div>\n",
       "<style scoped>\n",
       "    .dataframe tbody tr th:only-of-type {\n",
       "        vertical-align: middle;\n",
       "    }\n",
       "\n",
       "    .dataframe tbody tr th {\n",
       "        vertical-align: top;\n",
       "    }\n",
       "\n",
       "    .dataframe thead th {\n",
       "        text-align: right;\n",
       "    }\n",
       "</style>\n",
       "<table border=\"1\" class=\"dataframe\">\n",
       "  <thead>\n",
       "    <tr style=\"text-align: right;\">\n",
       "      <th></th>\n",
       "      <th>PassengerId</th>\n",
       "      <th>Pclass</th>\n",
       "      <th>Name</th>\n",
       "      <th>Sex</th>\n",
       "      <th>Age</th>\n",
       "      <th>SibSp</th>\n",
       "      <th>Parch</th>\n",
       "      <th>Ticket</th>\n",
       "      <th>Fare</th>\n",
       "      <th>Embarked</th>\n",
       "      <th>Embarked_Code</th>\n",
       "      <th>Sex_Code</th>\n",
       "    </tr>\n",
       "  </thead>\n",
       "  <tbody>\n",
       "    <tr>\n",
       "      <th>0</th>\n",
       "      <td>892</td>\n",
       "      <td>3</td>\n",
       "      <td>Kelly, Mr. James</td>\n",
       "      <td>male</td>\n",
       "      <td>34.5</td>\n",
       "      <td>0</td>\n",
       "      <td>0</td>\n",
       "      <td>330911</td>\n",
       "      <td>7.8292</td>\n",
       "      <td>Q</td>\n",
       "      <td>1</td>\n",
       "      <td>1</td>\n",
       "    </tr>\n",
       "    <tr>\n",
       "      <th>1</th>\n",
       "      <td>893</td>\n",
       "      <td>3</td>\n",
       "      <td>Wilkes, Mrs. James (Ellen Needs)</td>\n",
       "      <td>female</td>\n",
       "      <td>47.0</td>\n",
       "      <td>1</td>\n",
       "      <td>0</td>\n",
       "      <td>363272</td>\n",
       "      <td>7.0000</td>\n",
       "      <td>S</td>\n",
       "      <td>2</td>\n",
       "      <td>0</td>\n",
       "    </tr>\n",
       "    <tr>\n",
       "      <th>2</th>\n",
       "      <td>894</td>\n",
       "      <td>2</td>\n",
       "      <td>Myles, Mr. Thomas Francis</td>\n",
       "      <td>male</td>\n",
       "      <td>62.0</td>\n",
       "      <td>0</td>\n",
       "      <td>0</td>\n",
       "      <td>240276</td>\n",
       "      <td>9.6875</td>\n",
       "      <td>Q</td>\n",
       "      <td>1</td>\n",
       "      <td>1</td>\n",
       "    </tr>\n",
       "    <tr>\n",
       "      <th>3</th>\n",
       "      <td>895</td>\n",
       "      <td>3</td>\n",
       "      <td>Wirz, Mr. Albert</td>\n",
       "      <td>male</td>\n",
       "      <td>27.0</td>\n",
       "      <td>0</td>\n",
       "      <td>0</td>\n",
       "      <td>315154</td>\n",
       "      <td>8.6625</td>\n",
       "      <td>S</td>\n",
       "      <td>2</td>\n",
       "      <td>1</td>\n",
       "    </tr>\n",
       "    <tr>\n",
       "      <th>4</th>\n",
       "      <td>896</td>\n",
       "      <td>3</td>\n",
       "      <td>Hirvonen, Mrs. Alexander (Helga E Lindqvist)</td>\n",
       "      <td>female</td>\n",
       "      <td>22.0</td>\n",
       "      <td>1</td>\n",
       "      <td>1</td>\n",
       "      <td>3101298</td>\n",
       "      <td>12.2875</td>\n",
       "      <td>S</td>\n",
       "      <td>2</td>\n",
       "      <td>0</td>\n",
       "    </tr>\n",
       "  </tbody>\n",
       "</table>\n",
       "</div>"
      ],
      "text/plain": [
       "   PassengerId  Pclass                                          Name     Sex  \\\n",
       "0          892       3                              Kelly, Mr. James    male   \n",
       "1          893       3              Wilkes, Mrs. James (Ellen Needs)  female   \n",
       "2          894       2                     Myles, Mr. Thomas Francis    male   \n",
       "3          895       3                              Wirz, Mr. Albert    male   \n",
       "4          896       3  Hirvonen, Mrs. Alexander (Helga E Lindqvist)  female   \n",
       "\n",
       "    Age  SibSp  Parch   Ticket     Fare Embarked  Embarked_Code  Sex_Code  \n",
       "0  34.5      0      0   330911   7.8292        Q              1         1  \n",
       "1  47.0      1      0   363272   7.0000        S              2         0  \n",
       "2  62.0      0      0   240276   9.6875        Q              1         1  \n",
       "3  27.0      0      0   315154   8.6625        S              2         1  \n",
       "4  22.0      1      1  3101298  12.2875        S              2         0  "
      ]
     },
     "execution_count": 19,
     "metadata": {},
     "output_type": "execute_result"
    }
   ],
   "source": [
    "test_df.head()"
   ]
  },
  {
   "cell_type": "code",
   "execution_count": 20,
   "metadata": {
    "execution": {
     "iopub.execute_input": "2021-01-31T05:11:09.255560Z",
     "iopub.status.busy": "2021-01-31T05:11:09.254848Z",
     "iopub.status.idle": "2021-01-31T05:11:09.260937Z",
     "shell.execute_reply": "2021-01-31T05:11:09.260412Z"
    },
    "papermill": {
     "duration": 0.064419,
     "end_time": "2021-01-31T05:11:09.261103",
     "exception": false,
     "start_time": "2021-01-31T05:11:09.196684",
     "status": "completed"
    },
    "tags": []
   },
   "outputs": [],
   "source": [
    "# drop Sex and Embarked columns\n",
    "for dataset in combine:\n",
    "    dataset.drop(['Sex','Embarked'],axis=1,inplace=True)"
   ]
  },
  {
   "cell_type": "code",
   "execution_count": 21,
   "metadata": {
    "execution": {
     "iopub.execute_input": "2021-01-31T05:11:09.372904Z",
     "iopub.status.busy": "2021-01-31T05:11:09.372279Z",
     "iopub.status.idle": "2021-01-31T05:11:09.375201Z",
     "shell.execute_reply": "2021-01-31T05:11:09.375780Z"
    },
    "papermill": {
     "duration": 0.061691,
     "end_time": "2021-01-31T05:11:09.375947",
     "exception": false,
     "start_time": "2021-01-31T05:11:09.314256",
     "status": "completed"
    },
    "scrolled": true,
    "tags": []
   },
   "outputs": [
    {
     "data": {
      "text/plain": [
       "(Index(['PassengerId', 'Survived', 'Pclass', 'Name', 'Age', 'SibSp', 'Parch',\n",
       "        'Ticket', 'Fare', 'Embarked_Code', 'Sex_Code'],\n",
       "       dtype='object'),\n",
       " Index(['PassengerId', 'Pclass', 'Name', 'Age', 'SibSp', 'Parch', 'Ticket',\n",
       "        'Fare', 'Embarked_Code', 'Sex_Code'],\n",
       "       dtype='object'))"
      ]
     },
     "execution_count": 21,
     "metadata": {},
     "output_type": "execute_result"
    }
   ],
   "source": [
    "train_df.columns, test_df.columns"
   ]
  },
  {
   "cell_type": "markdown",
   "metadata": {},
   "source": [
    "### Further Assessment of other columns\n",
    "\n",
    "Let's take a look at other columns from our data.\n",
    "* **Ticket**"
   ]
  },
  {
   "cell_type": "code",
   "execution_count": 22,
   "metadata": {
    "execution": {
     "iopub.execute_input": "2021-01-31T05:11:09.486969Z",
     "iopub.status.busy": "2021-01-31T05:11:09.486316Z",
     "iopub.status.idle": "2021-01-31T05:11:09.495880Z",
     "shell.execute_reply": "2021-01-31T05:11:09.495375Z"
    },
    "papermill": {
     "duration": 0.066501,
     "end_time": "2021-01-31T05:11:09.496023",
     "exception": false,
     "start_time": "2021-01-31T05:11:09.429522",
     "status": "completed"
    },
    "tags": []
   },
   "outputs": [
    {
     "data": {
      "text/plain": [
       "1601        7\n",
       "CA. 2343    7\n",
       "347082      7\n",
       "3101295     6\n",
       "CA 2144     6\n",
       "           ..\n",
       "347468      1\n",
       "347067      1\n",
       "349210      1\n",
       "35851       1\n",
       "9234        1\n",
       "Name: Ticket, Length: 681, dtype: int64"
      ]
     },
     "execution_count": 22,
     "metadata": {},
     "output_type": "execute_result"
    }
   ],
   "source": [
    "train_df['Ticket'].value_counts()"
   ]
  },
  {
   "cell_type": "markdown",
   "metadata": {},
   "source": [
    "If we look at the **Ticket** column, we can see that there are a lot of random values for this column which do not contribute a lot to our discussion of \"Whether the passenger with so and so ticket number will survive or not?\". Hence, we will drop this column."
   ]
  },
  {
   "cell_type": "code",
   "execution_count": 23,
   "metadata": {
    "execution": {
     "iopub.execute_input": "2021-01-31T05:11:09.613910Z",
     "iopub.status.busy": "2021-01-31T05:11:09.612829Z",
     "iopub.status.idle": "2021-01-31T05:11:09.616163Z",
     "shell.execute_reply": "2021-01-31T05:11:09.615646Z"
    },
    "papermill": {
     "duration": 0.065011,
     "end_time": "2021-01-31T05:11:09.616322",
     "exception": false,
     "start_time": "2021-01-31T05:11:09.551311",
     "status": "completed"
    },
    "tags": []
   },
   "outputs": [],
   "source": [
    "for dataset in combine:\n",
    "    dataset.drop(['Ticket'],axis=1,inplace=True)"
   ]
  },
  {
   "cell_type": "code",
   "execution_count": 24,
   "metadata": {
    "execution": {
     "iopub.execute_input": "2021-01-31T05:11:09.731726Z",
     "iopub.status.busy": "2021-01-31T05:11:09.731028Z",
     "iopub.status.idle": "2021-01-31T05:11:09.733836Z",
     "shell.execute_reply": "2021-01-31T05:11:09.734459Z"
    },
    "papermill": {
     "duration": 0.063949,
     "end_time": "2021-01-31T05:11:09.734639",
     "exception": false,
     "start_time": "2021-01-31T05:11:09.670690",
     "status": "completed"
    },
    "tags": []
   },
   "outputs": [
    {
     "data": {
      "text/plain": [
       "(Index(['PassengerId', 'Survived', 'Pclass', 'Name', 'Age', 'SibSp', 'Parch',\n",
       "        'Fare', 'Embarked_Code', 'Sex_Code'],\n",
       "       dtype='object'),\n",
       " Index(['PassengerId', 'Pclass', 'Name', 'Age', 'SibSp', 'Parch', 'Fare',\n",
       "        'Embarked_Code', 'Sex_Code'],\n",
       "       dtype='object'))"
      ]
     },
     "execution_count": 24,
     "metadata": {},
     "output_type": "execute_result"
    }
   ],
   "source": [
    "train_df.columns, test_df.columns"
   ]
  },
  {
   "cell_type": "markdown",
   "metadata": {},
   "source": [
    "* **Name**"
   ]
  },
  {
   "cell_type": "code",
   "execution_count": 25,
   "metadata": {
    "execution": {
     "iopub.execute_input": "2021-01-31T05:11:09.848658Z",
     "iopub.status.busy": "2021-01-31T05:11:09.848015Z",
     "iopub.status.idle": "2021-01-31T05:11:09.854336Z",
     "shell.execute_reply": "2021-01-31T05:11:09.854898Z"
    },
    "papermill": {
     "duration": 0.06474,
     "end_time": "2021-01-31T05:11:09.855079",
     "exception": false,
     "start_time": "2021-01-31T05:11:09.790339",
     "status": "completed"
    },
    "scrolled": true,
    "tags": []
   },
   "outputs": [
    {
     "data": {
      "text/plain": [
       "0                              Braund, Mr. Owen Harris\n",
       "1    Cumings, Mrs. John Bradley (Florence Briggs Th...\n",
       "2                               Heikkinen, Miss. Laina\n",
       "3         Futrelle, Mrs. Jacques Heath (Lily May Peel)\n",
       "4                             Allen, Mr. William Henry\n",
       "5                                     Moran, Mr. James\n",
       "6                              McCarthy, Mr. Timothy J\n",
       "7                       Palsson, Master. Gosta Leonard\n",
       "8    Johnson, Mrs. Oscar W (Elisabeth Vilhelmina Berg)\n",
       "9                  Nasser, Mrs. Nicholas (Adele Achem)\n",
       "Name: Name, dtype: object"
      ]
     },
     "execution_count": 25,
     "metadata": {},
     "output_type": "execute_result"
    }
   ],
   "source": [
    "train_df['Name'].head(10)"
   ]
  },
  {
   "cell_type": "markdown",
   "metadata": {},
   "source": [
    "If we look at the **Name** column, we can build a new categorical variable called **Title** from it to understand if that contributes to the survival of the passenger on Titanic in anyway. We will be using regular expressions to extract the Title from the Name string"
   ]
  },
  {
   "cell_type": "code",
   "execution_count": 26,
   "metadata": {
    "execution": {
     "iopub.execute_input": "2021-01-31T05:11:09.970706Z",
     "iopub.status.busy": "2021-01-31T05:11:09.970012Z",
     "iopub.status.idle": "2021-01-31T05:11:09.979608Z",
     "shell.execute_reply": "2021-01-31T05:11:09.980093Z"
    },
    "papermill": {
     "duration": 0.068271,
     "end_time": "2021-01-31T05:11:09.980306",
     "exception": false,
     "start_time": "2021-01-31T05:11:09.912035",
     "status": "completed"
    },
    "tags": []
   },
   "outputs": [],
   "source": [
    "for dataset in combine:\n",
    "    dataset['Title'] = dataset['Name'].str.extract(' ([A-Za-z]+)\\.', expand=False)"
   ]
  },
  {
   "cell_type": "code",
   "execution_count": 27,
   "metadata": {
    "execution": {
     "iopub.execute_input": "2021-01-31T05:11:10.094274Z",
     "iopub.status.busy": "2021-01-31T05:11:10.093623Z",
     "iopub.status.idle": "2021-01-31T05:11:10.108466Z",
     "shell.execute_reply": "2021-01-31T05:11:10.108918Z"
    },
    "papermill": {
     "duration": 0.073388,
     "end_time": "2021-01-31T05:11:10.109096",
     "exception": false,
     "start_time": "2021-01-31T05:11:10.035708",
     "status": "completed"
    },
    "tags": []
   },
   "outputs": [
    {
     "data": {
      "text/html": [
       "<div>\n",
       "<style scoped>\n",
       "    .dataframe tbody tr th:only-of-type {\n",
       "        vertical-align: middle;\n",
       "    }\n",
       "\n",
       "    .dataframe tbody tr th {\n",
       "        vertical-align: top;\n",
       "    }\n",
       "\n",
       "    .dataframe thead th {\n",
       "        text-align: right;\n",
       "    }\n",
       "</style>\n",
       "<table border=\"1\" class=\"dataframe\">\n",
       "  <thead>\n",
       "    <tr style=\"text-align: right;\">\n",
       "      <th></th>\n",
       "      <th>PassengerId</th>\n",
       "      <th>Survived</th>\n",
       "      <th>Pclass</th>\n",
       "      <th>Name</th>\n",
       "      <th>Age</th>\n",
       "      <th>SibSp</th>\n",
       "      <th>Parch</th>\n",
       "      <th>Fare</th>\n",
       "      <th>Embarked_Code</th>\n",
       "      <th>Sex_Code</th>\n",
       "      <th>Title</th>\n",
       "    </tr>\n",
       "  </thead>\n",
       "  <tbody>\n",
       "    <tr>\n",
       "      <th>0</th>\n",
       "      <td>1</td>\n",
       "      <td>0</td>\n",
       "      <td>3</td>\n",
       "      <td>Braund, Mr. Owen Harris</td>\n",
       "      <td>22.0</td>\n",
       "      <td>1</td>\n",
       "      <td>0</td>\n",
       "      <td>7.2500</td>\n",
       "      <td>2</td>\n",
       "      <td>1</td>\n",
       "      <td>Mr</td>\n",
       "    </tr>\n",
       "    <tr>\n",
       "      <th>1</th>\n",
       "      <td>2</td>\n",
       "      <td>1</td>\n",
       "      <td>1</td>\n",
       "      <td>Cumings, Mrs. John Bradley (Florence Briggs Th...</td>\n",
       "      <td>38.0</td>\n",
       "      <td>1</td>\n",
       "      <td>0</td>\n",
       "      <td>71.2833</td>\n",
       "      <td>0</td>\n",
       "      <td>0</td>\n",
       "      <td>Mrs</td>\n",
       "    </tr>\n",
       "    <tr>\n",
       "      <th>2</th>\n",
       "      <td>3</td>\n",
       "      <td>1</td>\n",
       "      <td>3</td>\n",
       "      <td>Heikkinen, Miss. Laina</td>\n",
       "      <td>26.0</td>\n",
       "      <td>0</td>\n",
       "      <td>0</td>\n",
       "      <td>7.9250</td>\n",
       "      <td>2</td>\n",
       "      <td>0</td>\n",
       "      <td>Miss</td>\n",
       "    </tr>\n",
       "    <tr>\n",
       "      <th>3</th>\n",
       "      <td>4</td>\n",
       "      <td>1</td>\n",
       "      <td>1</td>\n",
       "      <td>Futrelle, Mrs. Jacques Heath (Lily May Peel)</td>\n",
       "      <td>35.0</td>\n",
       "      <td>1</td>\n",
       "      <td>0</td>\n",
       "      <td>53.1000</td>\n",
       "      <td>2</td>\n",
       "      <td>0</td>\n",
       "      <td>Mrs</td>\n",
       "    </tr>\n",
       "    <tr>\n",
       "      <th>4</th>\n",
       "      <td>5</td>\n",
       "      <td>0</td>\n",
       "      <td>3</td>\n",
       "      <td>Allen, Mr. William Henry</td>\n",
       "      <td>35.0</td>\n",
       "      <td>0</td>\n",
       "      <td>0</td>\n",
       "      <td>8.0500</td>\n",
       "      <td>2</td>\n",
       "      <td>1</td>\n",
       "      <td>Mr</td>\n",
       "    </tr>\n",
       "  </tbody>\n",
       "</table>\n",
       "</div>"
      ],
      "text/plain": [
       "   PassengerId  Survived  Pclass  \\\n",
       "0            1         0       3   \n",
       "1            2         1       1   \n",
       "2            3         1       3   \n",
       "3            4         1       1   \n",
       "4            5         0       3   \n",
       "\n",
       "                                                Name   Age  SibSp  Parch  \\\n",
       "0                            Braund, Mr. Owen Harris  22.0      1      0   \n",
       "1  Cumings, Mrs. John Bradley (Florence Briggs Th...  38.0      1      0   \n",
       "2                             Heikkinen, Miss. Laina  26.0      0      0   \n",
       "3       Futrelle, Mrs. Jacques Heath (Lily May Peel)  35.0      1      0   \n",
       "4                           Allen, Mr. William Henry  35.0      0      0   \n",
       "\n",
       "      Fare  Embarked_Code  Sex_Code Title  \n",
       "0   7.2500              2         1    Mr  \n",
       "1  71.2833              0         0   Mrs  \n",
       "2   7.9250              2         0  Miss  \n",
       "3  53.1000              2         0   Mrs  \n",
       "4   8.0500              2         1    Mr  "
      ]
     },
     "execution_count": 27,
     "metadata": {},
     "output_type": "execute_result"
    }
   ],
   "source": [
    "train_df.head()"
   ]
  },
  {
   "cell_type": "code",
   "execution_count": 28,
   "metadata": {
    "execution": {
     "iopub.execute_input": "2021-01-31T05:11:10.225111Z",
     "iopub.status.busy": "2021-01-31T05:11:10.224212Z",
     "iopub.status.idle": "2021-01-31T05:11:10.238687Z",
     "shell.execute_reply": "2021-01-31T05:11:10.239132Z"
    },
    "papermill": {
     "duration": 0.073984,
     "end_time": "2021-01-31T05:11:10.239323",
     "exception": false,
     "start_time": "2021-01-31T05:11:10.165339",
     "status": "completed"
    },
    "tags": []
   },
   "outputs": [
    {
     "data": {
      "text/html": [
       "<div>\n",
       "<style scoped>\n",
       "    .dataframe tbody tr th:only-of-type {\n",
       "        vertical-align: middle;\n",
       "    }\n",
       "\n",
       "    .dataframe tbody tr th {\n",
       "        vertical-align: top;\n",
       "    }\n",
       "\n",
       "    .dataframe thead th {\n",
       "        text-align: right;\n",
       "    }\n",
       "</style>\n",
       "<table border=\"1\" class=\"dataframe\">\n",
       "  <thead>\n",
       "    <tr style=\"text-align: right;\">\n",
       "      <th></th>\n",
       "      <th>PassengerId</th>\n",
       "      <th>Pclass</th>\n",
       "      <th>Name</th>\n",
       "      <th>Age</th>\n",
       "      <th>SibSp</th>\n",
       "      <th>Parch</th>\n",
       "      <th>Fare</th>\n",
       "      <th>Embarked_Code</th>\n",
       "      <th>Sex_Code</th>\n",
       "      <th>Title</th>\n",
       "    </tr>\n",
       "  </thead>\n",
       "  <tbody>\n",
       "    <tr>\n",
       "      <th>0</th>\n",
       "      <td>892</td>\n",
       "      <td>3</td>\n",
       "      <td>Kelly, Mr. James</td>\n",
       "      <td>34.5</td>\n",
       "      <td>0</td>\n",
       "      <td>0</td>\n",
       "      <td>7.8292</td>\n",
       "      <td>1</td>\n",
       "      <td>1</td>\n",
       "      <td>Mr</td>\n",
       "    </tr>\n",
       "    <tr>\n",
       "      <th>1</th>\n",
       "      <td>893</td>\n",
       "      <td>3</td>\n",
       "      <td>Wilkes, Mrs. James (Ellen Needs)</td>\n",
       "      <td>47.0</td>\n",
       "      <td>1</td>\n",
       "      <td>0</td>\n",
       "      <td>7.0000</td>\n",
       "      <td>2</td>\n",
       "      <td>0</td>\n",
       "      <td>Mrs</td>\n",
       "    </tr>\n",
       "    <tr>\n",
       "      <th>2</th>\n",
       "      <td>894</td>\n",
       "      <td>2</td>\n",
       "      <td>Myles, Mr. Thomas Francis</td>\n",
       "      <td>62.0</td>\n",
       "      <td>0</td>\n",
       "      <td>0</td>\n",
       "      <td>9.6875</td>\n",
       "      <td>1</td>\n",
       "      <td>1</td>\n",
       "      <td>Mr</td>\n",
       "    </tr>\n",
       "    <tr>\n",
       "      <th>3</th>\n",
       "      <td>895</td>\n",
       "      <td>3</td>\n",
       "      <td>Wirz, Mr. Albert</td>\n",
       "      <td>27.0</td>\n",
       "      <td>0</td>\n",
       "      <td>0</td>\n",
       "      <td>8.6625</td>\n",
       "      <td>2</td>\n",
       "      <td>1</td>\n",
       "      <td>Mr</td>\n",
       "    </tr>\n",
       "    <tr>\n",
       "      <th>4</th>\n",
       "      <td>896</td>\n",
       "      <td>3</td>\n",
       "      <td>Hirvonen, Mrs. Alexander (Helga E Lindqvist)</td>\n",
       "      <td>22.0</td>\n",
       "      <td>1</td>\n",
       "      <td>1</td>\n",
       "      <td>12.2875</td>\n",
       "      <td>2</td>\n",
       "      <td>0</td>\n",
       "      <td>Mrs</td>\n",
       "    </tr>\n",
       "  </tbody>\n",
       "</table>\n",
       "</div>"
      ],
      "text/plain": [
       "   PassengerId  Pclass                                          Name   Age  \\\n",
       "0          892       3                              Kelly, Mr. James  34.5   \n",
       "1          893       3              Wilkes, Mrs. James (Ellen Needs)  47.0   \n",
       "2          894       2                     Myles, Mr. Thomas Francis  62.0   \n",
       "3          895       3                              Wirz, Mr. Albert  27.0   \n",
       "4          896       3  Hirvonen, Mrs. Alexander (Helga E Lindqvist)  22.0   \n",
       "\n",
       "   SibSp  Parch     Fare  Embarked_Code  Sex_Code Title  \n",
       "0      0      0   7.8292              1         1    Mr  \n",
       "1      1      0   7.0000              2         0   Mrs  \n",
       "2      0      0   9.6875              1         1    Mr  \n",
       "3      0      0   8.6625              2         1    Mr  \n",
       "4      1      1  12.2875              2         0   Mrs  "
      ]
     },
     "execution_count": 28,
     "metadata": {},
     "output_type": "execute_result"
    }
   ],
   "source": [
    "test_df.head()"
   ]
  },
  {
   "cell_type": "code",
   "execution_count": 29,
   "metadata": {
    "execution": {
     "iopub.execute_input": "2021-01-31T05:11:10.356288Z",
     "iopub.status.busy": "2021-01-31T05:11:10.355347Z",
     "iopub.status.idle": "2021-01-31T05:11:10.362030Z",
     "shell.execute_reply": "2021-01-31T05:11:10.362540Z"
    },
    "papermill": {
     "duration": 0.067012,
     "end_time": "2021-01-31T05:11:10.362730",
     "exception": false,
     "start_time": "2021-01-31T05:11:10.295718",
     "status": "completed"
    },
    "tags": []
   },
   "outputs": [],
   "source": [
    "# dropping the Name column\n",
    "\n",
    "for dataset in combine:\n",
    "    dataset.drop(['Name'], axis=1, inplace=True)"
   ]
  },
  {
   "cell_type": "code",
   "execution_count": 30,
   "metadata": {
    "execution": {
     "iopub.execute_input": "2021-01-31T05:11:10.482489Z",
     "iopub.status.busy": "2021-01-31T05:11:10.481740Z",
     "iopub.status.idle": "2021-01-31T05:11:10.485489Z",
     "shell.execute_reply": "2021-01-31T05:11:10.484889Z"
    },
    "papermill": {
     "duration": 0.065841,
     "end_time": "2021-01-31T05:11:10.485624",
     "exception": false,
     "start_time": "2021-01-31T05:11:10.419783",
     "status": "completed"
    },
    "scrolled": true,
    "tags": []
   },
   "outputs": [
    {
     "data": {
      "text/plain": [
       "(Index(['PassengerId', 'Survived', 'Pclass', 'Age', 'SibSp', 'Parch', 'Fare',\n",
       "        'Embarked_Code', 'Sex_Code', 'Title'],\n",
       "       dtype='object'),\n",
       " Index(['PassengerId', 'Pclass', 'Age', 'SibSp', 'Parch', 'Fare',\n",
       "        'Embarked_Code', 'Sex_Code', 'Title'],\n",
       "       dtype='object'))"
      ]
     },
     "execution_count": 30,
     "metadata": {},
     "output_type": "execute_result"
    }
   ],
   "source": [
    "train_df.columns, test_df.columns"
   ]
  },
  {
   "cell_type": "code",
   "execution_count": 31,
   "metadata": {
    "execution": {
     "iopub.execute_input": "2021-01-31T05:11:10.607770Z",
     "iopub.status.busy": "2021-01-31T05:11:10.607111Z",
     "iopub.status.idle": "2021-01-31T05:11:10.610087Z",
     "shell.execute_reply": "2021-01-31T05:11:10.609480Z"
    },
    "papermill": {
     "duration": 0.067431,
     "end_time": "2021-01-31T05:11:10.610257",
     "exception": false,
     "start_time": "2021-01-31T05:11:10.542826",
     "status": "completed"
    },
    "tags": []
   },
   "outputs": [],
   "source": [
    "# Converting Categorical column Title to Numerical column using LE Encoder previously created\n",
    "for dataset in combine:\n",
    "    dataset['Title_Code'] = le.fit_transform(dataset['Title'])"
   ]
  },
  {
   "cell_type": "code",
   "execution_count": 32,
   "metadata": {
    "execution": {
     "iopub.execute_input": "2021-01-31T05:11:10.741222Z",
     "iopub.status.busy": "2021-01-31T05:11:10.735764Z",
     "iopub.status.idle": "2021-01-31T05:11:10.744515Z",
     "shell.execute_reply": "2021-01-31T05:11:10.745016Z"
    },
    "papermill": {
     "duration": 0.077142,
     "end_time": "2021-01-31T05:11:10.745206",
     "exception": false,
     "start_time": "2021-01-31T05:11:10.668064",
     "status": "completed"
    },
    "tags": []
   },
   "outputs": [
    {
     "data": {
      "text/html": [
       "<div>\n",
       "<style scoped>\n",
       "    .dataframe tbody tr th:only-of-type {\n",
       "        vertical-align: middle;\n",
       "    }\n",
       "\n",
       "    .dataframe tbody tr th {\n",
       "        vertical-align: top;\n",
       "    }\n",
       "\n",
       "    .dataframe thead th {\n",
       "        text-align: right;\n",
       "    }\n",
       "</style>\n",
       "<table border=\"1\" class=\"dataframe\">\n",
       "  <thead>\n",
       "    <tr style=\"text-align: right;\">\n",
       "      <th></th>\n",
       "      <th>PassengerId</th>\n",
       "      <th>Survived</th>\n",
       "      <th>Pclass</th>\n",
       "      <th>Age</th>\n",
       "      <th>SibSp</th>\n",
       "      <th>Parch</th>\n",
       "      <th>Fare</th>\n",
       "      <th>Embarked_Code</th>\n",
       "      <th>Sex_Code</th>\n",
       "      <th>Title</th>\n",
       "      <th>Title_Code</th>\n",
       "    </tr>\n",
       "  </thead>\n",
       "  <tbody>\n",
       "    <tr>\n",
       "      <th>0</th>\n",
       "      <td>1</td>\n",
       "      <td>0</td>\n",
       "      <td>3</td>\n",
       "      <td>22.0</td>\n",
       "      <td>1</td>\n",
       "      <td>0</td>\n",
       "      <td>7.2500</td>\n",
       "      <td>2</td>\n",
       "      <td>1</td>\n",
       "      <td>Mr</td>\n",
       "      <td>12</td>\n",
       "    </tr>\n",
       "    <tr>\n",
       "      <th>1</th>\n",
       "      <td>2</td>\n",
       "      <td>1</td>\n",
       "      <td>1</td>\n",
       "      <td>38.0</td>\n",
       "      <td>1</td>\n",
       "      <td>0</td>\n",
       "      <td>71.2833</td>\n",
       "      <td>0</td>\n",
       "      <td>0</td>\n",
       "      <td>Mrs</td>\n",
       "      <td>13</td>\n",
       "    </tr>\n",
       "    <tr>\n",
       "      <th>2</th>\n",
       "      <td>3</td>\n",
       "      <td>1</td>\n",
       "      <td>3</td>\n",
       "      <td>26.0</td>\n",
       "      <td>0</td>\n",
       "      <td>0</td>\n",
       "      <td>7.9250</td>\n",
       "      <td>2</td>\n",
       "      <td>0</td>\n",
       "      <td>Miss</td>\n",
       "      <td>9</td>\n",
       "    </tr>\n",
       "    <tr>\n",
       "      <th>3</th>\n",
       "      <td>4</td>\n",
       "      <td>1</td>\n",
       "      <td>1</td>\n",
       "      <td>35.0</td>\n",
       "      <td>1</td>\n",
       "      <td>0</td>\n",
       "      <td>53.1000</td>\n",
       "      <td>2</td>\n",
       "      <td>0</td>\n",
       "      <td>Mrs</td>\n",
       "      <td>13</td>\n",
       "    </tr>\n",
       "    <tr>\n",
       "      <th>4</th>\n",
       "      <td>5</td>\n",
       "      <td>0</td>\n",
       "      <td>3</td>\n",
       "      <td>35.0</td>\n",
       "      <td>0</td>\n",
       "      <td>0</td>\n",
       "      <td>8.0500</td>\n",
       "      <td>2</td>\n",
       "      <td>1</td>\n",
       "      <td>Mr</td>\n",
       "      <td>12</td>\n",
       "    </tr>\n",
       "  </tbody>\n",
       "</table>\n",
       "</div>"
      ],
      "text/plain": [
       "   PassengerId  Survived  Pclass   Age  SibSp  Parch     Fare  Embarked_Code  \\\n",
       "0            1         0       3  22.0      1      0   7.2500              2   \n",
       "1            2         1       1  38.0      1      0  71.2833              0   \n",
       "2            3         1       3  26.0      0      0   7.9250              2   \n",
       "3            4         1       1  35.0      1      0  53.1000              2   \n",
       "4            5         0       3  35.0      0      0   8.0500              2   \n",
       "\n",
       "   Sex_Code Title  Title_Code  \n",
       "0         1    Mr          12  \n",
       "1         0   Mrs          13  \n",
       "2         0  Miss           9  \n",
       "3         0   Mrs          13  \n",
       "4         1    Mr          12  "
      ]
     },
     "execution_count": 32,
     "metadata": {},
     "output_type": "execute_result"
    }
   ],
   "source": [
    "train_df.head()"
   ]
  },
  {
   "cell_type": "code",
   "execution_count": 33,
   "metadata": {
    "execution": {
     "iopub.execute_input": "2021-01-31T05:11:10.864558Z",
     "iopub.status.busy": "2021-01-31T05:11:10.863932Z",
     "iopub.status.idle": "2021-01-31T05:11:10.878713Z",
     "shell.execute_reply": "2021-01-31T05:11:10.878057Z"
    },
    "papermill": {
     "duration": 0.075876,
     "end_time": "2021-01-31T05:11:10.878851",
     "exception": false,
     "start_time": "2021-01-31T05:11:10.802975",
     "status": "completed"
    },
    "tags": []
   },
   "outputs": [
    {
     "data": {
      "text/html": [
       "<div>\n",
       "<style scoped>\n",
       "    .dataframe tbody tr th:only-of-type {\n",
       "        vertical-align: middle;\n",
       "    }\n",
       "\n",
       "    .dataframe tbody tr th {\n",
       "        vertical-align: top;\n",
       "    }\n",
       "\n",
       "    .dataframe thead th {\n",
       "        text-align: right;\n",
       "    }\n",
       "</style>\n",
       "<table border=\"1\" class=\"dataframe\">\n",
       "  <thead>\n",
       "    <tr style=\"text-align: right;\">\n",
       "      <th></th>\n",
       "      <th>PassengerId</th>\n",
       "      <th>Pclass</th>\n",
       "      <th>Age</th>\n",
       "      <th>SibSp</th>\n",
       "      <th>Parch</th>\n",
       "      <th>Fare</th>\n",
       "      <th>Embarked_Code</th>\n",
       "      <th>Sex_Code</th>\n",
       "      <th>Title</th>\n",
       "      <th>Title_Code</th>\n",
       "    </tr>\n",
       "  </thead>\n",
       "  <tbody>\n",
       "    <tr>\n",
       "      <th>0</th>\n",
       "      <td>892</td>\n",
       "      <td>3</td>\n",
       "      <td>34.5</td>\n",
       "      <td>0</td>\n",
       "      <td>0</td>\n",
       "      <td>7.8292</td>\n",
       "      <td>1</td>\n",
       "      <td>1</td>\n",
       "      <td>Mr</td>\n",
       "      <td>5</td>\n",
       "    </tr>\n",
       "    <tr>\n",
       "      <th>1</th>\n",
       "      <td>893</td>\n",
       "      <td>3</td>\n",
       "      <td>47.0</td>\n",
       "      <td>1</td>\n",
       "      <td>0</td>\n",
       "      <td>7.0000</td>\n",
       "      <td>2</td>\n",
       "      <td>0</td>\n",
       "      <td>Mrs</td>\n",
       "      <td>6</td>\n",
       "    </tr>\n",
       "    <tr>\n",
       "      <th>2</th>\n",
       "      <td>894</td>\n",
       "      <td>2</td>\n",
       "      <td>62.0</td>\n",
       "      <td>0</td>\n",
       "      <td>0</td>\n",
       "      <td>9.6875</td>\n",
       "      <td>1</td>\n",
       "      <td>1</td>\n",
       "      <td>Mr</td>\n",
       "      <td>5</td>\n",
       "    </tr>\n",
       "    <tr>\n",
       "      <th>3</th>\n",
       "      <td>895</td>\n",
       "      <td>3</td>\n",
       "      <td>27.0</td>\n",
       "      <td>0</td>\n",
       "      <td>0</td>\n",
       "      <td>8.6625</td>\n",
       "      <td>2</td>\n",
       "      <td>1</td>\n",
       "      <td>Mr</td>\n",
       "      <td>5</td>\n",
       "    </tr>\n",
       "    <tr>\n",
       "      <th>4</th>\n",
       "      <td>896</td>\n",
       "      <td>3</td>\n",
       "      <td>22.0</td>\n",
       "      <td>1</td>\n",
       "      <td>1</td>\n",
       "      <td>12.2875</td>\n",
       "      <td>2</td>\n",
       "      <td>0</td>\n",
       "      <td>Mrs</td>\n",
       "      <td>6</td>\n",
       "    </tr>\n",
       "  </tbody>\n",
       "</table>\n",
       "</div>"
      ],
      "text/plain": [
       "   PassengerId  Pclass   Age  SibSp  Parch     Fare  Embarked_Code  Sex_Code  \\\n",
       "0          892       3  34.5      0      0   7.8292              1         1   \n",
       "1          893       3  47.0      1      0   7.0000              2         0   \n",
       "2          894       2  62.0      0      0   9.6875              1         1   \n",
       "3          895       3  27.0      0      0   8.6625              2         1   \n",
       "4          896       3  22.0      1      1  12.2875              2         0   \n",
       "\n",
       "  Title  Title_Code  \n",
       "0    Mr           5  \n",
       "1   Mrs           6  \n",
       "2    Mr           5  \n",
       "3    Mr           5  \n",
       "4   Mrs           6  "
      ]
     },
     "execution_count": 33,
     "metadata": {},
     "output_type": "execute_result"
    }
   ],
   "source": [
    "test_df.head()"
   ]
  },
  {
   "cell_type": "code",
   "execution_count": 34,
   "metadata": {},
   "outputs": [],
   "source": [
    "# dropping the Title column\n",
    "for dataset in combine:\n",
    "    dataset.drop(['Title'], axis=1, inplace=True)"
   ]
  },
  {
   "cell_type": "code",
   "execution_count": 35,
   "metadata": {
    "execution": {
     "iopub.execute_input": "2021-01-31T05:11:11.131302Z",
     "iopub.status.busy": "2021-01-31T05:11:11.130378Z",
     "iopub.status.idle": "2021-01-31T05:11:11.134516Z",
     "shell.execute_reply": "2021-01-31T05:11:11.133760Z"
    },
    "papermill": {
     "duration": 0.068967,
     "end_time": "2021-01-31T05:11:11.134716",
     "exception": false,
     "start_time": "2021-01-31T05:11:11.065749",
     "status": "completed"
    },
    "scrolled": true,
    "tags": []
   },
   "outputs": [
    {
     "data": {
      "text/plain": [
       "(Index(['PassengerId', 'Survived', 'Pclass', 'Age', 'SibSp', 'Parch', 'Fare',\n",
       "        'Embarked_Code', 'Sex_Code', 'Title_Code'],\n",
       "       dtype='object'),\n",
       " Index(['PassengerId', 'Pclass', 'Age', 'SibSp', 'Parch', 'Fare',\n",
       "        'Embarked_Code', 'Sex_Code', 'Title_Code'],\n",
       "       dtype='object'))"
      ]
     },
     "execution_count": 35,
     "metadata": {},
     "output_type": "execute_result"
    }
   ],
   "source": [
    "train_df.columns, test_df.columns"
   ]
  },
  {
   "cell_type": "markdown",
   "metadata": {},
   "source": [
    "### Programmatic Assessment of our data\n",
    "\n",
    "At this moment, we have done as much manual analysis as we can on our data. Now let us look at our data programmatically and try to build some new features that can help us contribute to our discussion of **\"Who is most likely to survive on the Titanic?**"
   ]
  },
  {
   "cell_type": "code",
   "execution_count": 36,
   "metadata": {
    "execution": {
     "iopub.execute_input": "2021-01-31T05:11:11.510605Z",
     "iopub.status.busy": "2021-01-31T05:11:11.509627Z",
     "iopub.status.idle": "2021-01-31T05:11:11.528656Z",
     "shell.execute_reply": "2021-01-31T05:11:11.527997Z"
    },
    "papermill": {
     "duration": 0.08553,
     "end_time": "2021-01-31T05:11:11.528804",
     "exception": false,
     "start_time": "2021-01-31T05:11:11.443274",
     "status": "completed"
    },
    "scrolled": true,
    "tags": []
   },
   "outputs": [
    {
     "data": {
      "text/html": [
       "<div>\n",
       "<style scoped>\n",
       "    .dataframe tbody tr th:only-of-type {\n",
       "        vertical-align: middle;\n",
       "    }\n",
       "\n",
       "    .dataframe tbody tr th {\n",
       "        vertical-align: top;\n",
       "    }\n",
       "\n",
       "    .dataframe thead th {\n",
       "        text-align: right;\n",
       "    }\n",
       "</style>\n",
       "<table border=\"1\" class=\"dataframe\">\n",
       "  <thead>\n",
       "    <tr style=\"text-align: right;\">\n",
       "      <th></th>\n",
       "      <th>PassengerId</th>\n",
       "      <th>Survived</th>\n",
       "      <th>Pclass</th>\n",
       "      <th>Age</th>\n",
       "      <th>SibSp</th>\n",
       "      <th>Parch</th>\n",
       "      <th>Fare</th>\n",
       "      <th>Embarked_Code</th>\n",
       "      <th>Sex_Code</th>\n",
       "      <th>Title_Code</th>\n",
       "    </tr>\n",
       "  </thead>\n",
       "  <tbody>\n",
       "    <tr>\n",
       "      <th>PassengerId</th>\n",
       "      <td>1.000000</td>\n",
       "      <td>-0.005007</td>\n",
       "      <td>-0.035144</td>\n",
       "      <td>0.034212</td>\n",
       "      <td>-0.057527</td>\n",
       "      <td>-0.001652</td>\n",
       "      <td>0.012658</td>\n",
       "      <td>0.013128</td>\n",
       "      <td>0.042939</td>\n",
       "      <td>0.021692</td>\n",
       "    </tr>\n",
       "    <tr>\n",
       "      <th>Survived</th>\n",
       "      <td>-0.005007</td>\n",
       "      <td>1.000000</td>\n",
       "      <td>-0.338481</td>\n",
       "      <td>-0.064910</td>\n",
       "      <td>-0.035322</td>\n",
       "      <td>0.081629</td>\n",
       "      <td>0.257307</td>\n",
       "      <td>-0.167675</td>\n",
       "      <td>-0.543351</td>\n",
       "      <td>-0.201345</td>\n",
       "    </tr>\n",
       "    <tr>\n",
       "      <th>Pclass</th>\n",
       "      <td>-0.035144</td>\n",
       "      <td>-0.338481</td>\n",
       "      <td>1.000000</td>\n",
       "      <td>-0.339898</td>\n",
       "      <td>0.083081</td>\n",
       "      <td>0.018443</td>\n",
       "      <td>-0.549500</td>\n",
       "      <td>0.162098</td>\n",
       "      <td>0.131900</td>\n",
       "      <td>0.045541</td>\n",
       "    </tr>\n",
       "    <tr>\n",
       "      <th>Age</th>\n",
       "      <td>0.034212</td>\n",
       "      <td>-0.064910</td>\n",
       "      <td>-0.339898</td>\n",
       "      <td>1.000000</td>\n",
       "      <td>-0.233296</td>\n",
       "      <td>-0.172482</td>\n",
       "      <td>0.096688</td>\n",
       "      <td>-0.018754</td>\n",
       "      <td>0.081163</td>\n",
       "      <td>0.272384</td>\n",
       "    </tr>\n",
       "    <tr>\n",
       "      <th>SibSp</th>\n",
       "      <td>-0.057527</td>\n",
       "      <td>-0.035322</td>\n",
       "      <td>0.083081</td>\n",
       "      <td>-0.233296</td>\n",
       "      <td>1.000000</td>\n",
       "      <td>0.414838</td>\n",
       "      <td>0.159651</td>\n",
       "      <td>0.068230</td>\n",
       "      <td>-0.114631</td>\n",
       "      <td>-0.191786</td>\n",
       "    </tr>\n",
       "    <tr>\n",
       "      <th>Parch</th>\n",
       "      <td>-0.001652</td>\n",
       "      <td>0.081629</td>\n",
       "      <td>0.018443</td>\n",
       "      <td>-0.172482</td>\n",
       "      <td>0.414838</td>\n",
       "      <td>1.000000</td>\n",
       "      <td>0.216225</td>\n",
       "      <td>0.039798</td>\n",
       "      <td>-0.245489</td>\n",
       "      <td>-0.119721</td>\n",
       "    </tr>\n",
       "    <tr>\n",
       "      <th>Fare</th>\n",
       "      <td>0.012658</td>\n",
       "      <td>0.257307</td>\n",
       "      <td>-0.549500</td>\n",
       "      <td>0.096688</td>\n",
       "      <td>0.159651</td>\n",
       "      <td>0.216225</td>\n",
       "      <td>1.000000</td>\n",
       "      <td>-0.224719</td>\n",
       "      <td>-0.182333</td>\n",
       "      <td>-0.086359</td>\n",
       "    </tr>\n",
       "    <tr>\n",
       "      <th>Embarked_Code</th>\n",
       "      <td>0.013128</td>\n",
       "      <td>-0.167675</td>\n",
       "      <td>0.162098</td>\n",
       "      <td>-0.018754</td>\n",
       "      <td>0.068230</td>\n",
       "      <td>0.039798</td>\n",
       "      <td>-0.224719</td>\n",
       "      <td>1.000000</td>\n",
       "      <td>0.108262</td>\n",
       "      <td>0.066462</td>\n",
       "    </tr>\n",
       "    <tr>\n",
       "      <th>Sex_Code</th>\n",
       "      <td>0.042939</td>\n",
       "      <td>-0.543351</td>\n",
       "      <td>0.131900</td>\n",
       "      <td>0.081163</td>\n",
       "      <td>-0.114631</td>\n",
       "      <td>-0.245489</td>\n",
       "      <td>-0.182333</td>\n",
       "      <td>0.108262</td>\n",
       "      <td>1.000000</td>\n",
       "      <td>0.256407</td>\n",
       "    </tr>\n",
       "    <tr>\n",
       "      <th>Title_Code</th>\n",
       "      <td>0.021692</td>\n",
       "      <td>-0.201345</td>\n",
       "      <td>0.045541</td>\n",
       "      <td>0.272384</td>\n",
       "      <td>-0.191786</td>\n",
       "      <td>-0.119721</td>\n",
       "      <td>-0.086359</td>\n",
       "      <td>0.066462</td>\n",
       "      <td>0.256407</td>\n",
       "      <td>1.000000</td>\n",
       "    </tr>\n",
       "  </tbody>\n",
       "</table>\n",
       "</div>"
      ],
      "text/plain": [
       "               PassengerId  Survived    Pclass       Age     SibSp     Parch  \\\n",
       "PassengerId       1.000000 -0.005007 -0.035144  0.034212 -0.057527 -0.001652   \n",
       "Survived         -0.005007  1.000000 -0.338481 -0.064910 -0.035322  0.081629   \n",
       "Pclass           -0.035144 -0.338481  1.000000 -0.339898  0.083081  0.018443   \n",
       "Age               0.034212 -0.064910 -0.339898  1.000000 -0.233296 -0.172482   \n",
       "SibSp            -0.057527 -0.035322  0.083081 -0.233296  1.000000  0.414838   \n",
       "Parch            -0.001652  0.081629  0.018443 -0.172482  0.414838  1.000000   \n",
       "Fare              0.012658  0.257307 -0.549500  0.096688  0.159651  0.216225   \n",
       "Embarked_Code     0.013128 -0.167675  0.162098 -0.018754  0.068230  0.039798   \n",
       "Sex_Code          0.042939 -0.543351  0.131900  0.081163 -0.114631 -0.245489   \n",
       "Title_Code        0.021692 -0.201345  0.045541  0.272384 -0.191786 -0.119721   \n",
       "\n",
       "                   Fare  Embarked_Code  Sex_Code  Title_Code  \n",
       "PassengerId    0.012658       0.013128  0.042939    0.021692  \n",
       "Survived       0.257307      -0.167675 -0.543351   -0.201345  \n",
       "Pclass        -0.549500       0.162098  0.131900    0.045541  \n",
       "Age            0.096688      -0.018754  0.081163    0.272384  \n",
       "SibSp          0.159651       0.068230 -0.114631   -0.191786  \n",
       "Parch          0.216225       0.039798 -0.245489   -0.119721  \n",
       "Fare           1.000000      -0.224719 -0.182333   -0.086359  \n",
       "Embarked_Code -0.224719       1.000000  0.108262    0.066462  \n",
       "Sex_Code      -0.182333       0.108262  1.000000    0.256407  \n",
       "Title_Code    -0.086359       0.066462  0.256407    1.000000  "
      ]
     },
     "execution_count": 36,
     "metadata": {},
     "output_type": "execute_result"
    }
   ],
   "source": [
    "# Let's use the correlation method to understand how each of the variables in the training set correlate to each other.\n",
    "train_df.corr()"
   ]
  },
  {
   "cell_type": "markdown",
   "metadata": {},
   "source": [
    "If we focussed on the Survived Column, we can see that **PassengerId** has a correlation factor of **-0.005007**, which indicates there is almost no correlation between the two. This is obvious also because PassengerId is just a unique identifier given to each passenger and won't contribute much to their survival. So we can drop that column."
   ]
  },
  {
   "cell_type": "code",
   "execution_count": 37,
   "metadata": {
    "execution": {
     "iopub.execute_input": "2021-01-31T05:11:11.865967Z",
     "iopub.status.busy": "2021-01-31T05:11:11.864522Z",
     "iopub.status.idle": "2021-01-31T05:11:11.870693Z",
     "shell.execute_reply": "2021-01-31T05:11:11.870099Z"
    },
    "papermill": {
     "duration": 0.072742,
     "end_time": "2021-01-31T05:11:11.870832",
     "exception": false,
     "start_time": "2021-01-31T05:11:11.798090",
     "status": "completed"
    },
    "tags": []
   },
   "outputs": [],
   "source": [
    "for dataset in combine:\n",
    "    dataset.drop(['PassengerId'], axis=1, inplace=True)"
   ]
  },
  {
   "cell_type": "code",
   "execution_count": 38,
   "metadata": {
    "execution": {
     "iopub.execute_input": "2021-01-31T05:11:11.998511Z",
     "iopub.status.busy": "2021-01-31T05:11:11.997566Z",
     "iopub.status.idle": "2021-01-31T05:11:12.003006Z",
     "shell.execute_reply": "2021-01-31T05:11:12.001844Z"
    },
    "papermill": {
     "duration": 0.071956,
     "end_time": "2021-01-31T05:11:12.003245",
     "exception": false,
     "start_time": "2021-01-31T05:11:11.931289",
     "status": "completed"
    },
    "scrolled": true,
    "tags": []
   },
   "outputs": [
    {
     "data": {
      "text/plain": [
       "(Index(['Survived', 'Pclass', 'Age', 'SibSp', 'Parch', 'Fare', 'Embarked_Code',\n",
       "        'Sex_Code', 'Title_Code'],\n",
       "       dtype='object'),\n",
       " Index(['Pclass', 'Age', 'SibSp', 'Parch', 'Fare', 'Embarked_Code', 'Sex_Code',\n",
       "        'Title_Code'],\n",
       "       dtype='object'))"
      ]
     },
     "execution_count": 38,
     "metadata": {},
     "output_type": "execute_result"
    }
   ],
   "source": [
    "train_df.columns, test_df.columns"
   ]
  },
  {
   "cell_type": "markdown",
   "metadata": {},
   "source": [
    "**SibSp** and **ParCh** columns do not have a strong correlation as well but we can create a new feature called **Family Size** of each of the passenger and check if that has a better correlation."
   ]
  },
  {
   "cell_type": "code",
   "execution_count": 39,
   "metadata": {
    "execution": {
     "iopub.execute_input": "2021-01-31T05:11:12.133231Z",
     "iopub.status.busy": "2021-01-31T05:11:12.132560Z",
     "iopub.status.idle": "2021-01-31T05:11:12.155074Z",
     "shell.execute_reply": "2021-01-31T05:11:12.154505Z"
    },
    "papermill": {
     "duration": 0.089509,
     "end_time": "2021-01-31T05:11:12.155256",
     "exception": false,
     "start_time": "2021-01-31T05:11:12.065747",
     "status": "completed"
    },
    "tags": []
   },
   "outputs": [],
   "source": [
    "for dataset in combine:\n",
    "    dataset['Family Size'] = dataset['Parch'] + dataset['SibSp'] + 1"
   ]
  },
  {
   "cell_type": "code",
   "execution_count": 40,
   "metadata": {
    "execution": {
     "iopub.execute_input": "2021-01-31T05:11:12.280775Z",
     "iopub.status.busy": "2021-01-31T05:11:12.279856Z",
     "iopub.status.idle": "2021-01-31T05:11:12.287010Z",
     "shell.execute_reply": "2021-01-31T05:11:12.287521Z"
    },
    "papermill": {
     "duration": 0.071232,
     "end_time": "2021-01-31T05:11:12.287708",
     "exception": false,
     "start_time": "2021-01-31T05:11:12.216476",
     "status": "completed"
    },
    "tags": []
   },
   "outputs": [
    {
     "data": {
      "text/plain": [
       "(Index(['Survived', 'Pclass', 'Age', 'SibSp', 'Parch', 'Fare', 'Embarked_Code',\n",
       "        'Sex_Code', 'Title_Code', 'Family Size'],\n",
       "       dtype='object'),\n",
       " Index(['Pclass', 'Age', 'SibSp', 'Parch', 'Fare', 'Embarked_Code', 'Sex_Code',\n",
       "        'Title_Code', 'Family Size'],\n",
       "       dtype='object'))"
      ]
     },
     "execution_count": 40,
     "metadata": {},
     "output_type": "execute_result"
    }
   ],
   "source": [
    "train_df.columns, test_df.columns"
   ]
  },
  {
   "cell_type": "code",
   "execution_count": 41,
   "metadata": {
    "execution": {
     "iopub.execute_input": "2021-01-31T05:11:12.421725Z",
     "iopub.status.busy": "2021-01-31T05:11:12.420713Z",
     "iopub.status.idle": "2021-01-31T05:11:12.430157Z",
     "shell.execute_reply": "2021-01-31T05:11:12.430636Z"
    },
    "papermill": {
     "duration": 0.081085,
     "end_time": "2021-01-31T05:11:12.430819",
     "exception": false,
     "start_time": "2021-01-31T05:11:12.349734",
     "status": "completed"
    },
    "tags": []
   },
   "outputs": [
    {
     "data": {
      "text/html": [
       "<div>\n",
       "<style scoped>\n",
       "    .dataframe tbody tr th:only-of-type {\n",
       "        vertical-align: middle;\n",
       "    }\n",
       "\n",
       "    .dataframe tbody tr th {\n",
       "        vertical-align: top;\n",
       "    }\n",
       "\n",
       "    .dataframe thead th {\n",
       "        text-align: right;\n",
       "    }\n",
       "</style>\n",
       "<table border=\"1\" class=\"dataframe\">\n",
       "  <thead>\n",
       "    <tr style=\"text-align: right;\">\n",
       "      <th></th>\n",
       "      <th>Survived</th>\n",
       "      <th>Pclass</th>\n",
       "      <th>Age</th>\n",
       "      <th>SibSp</th>\n",
       "      <th>Parch</th>\n",
       "      <th>Fare</th>\n",
       "      <th>Embarked_Code</th>\n",
       "      <th>Sex_Code</th>\n",
       "      <th>Title_Code</th>\n",
       "      <th>Family Size</th>\n",
       "    </tr>\n",
       "  </thead>\n",
       "  <tbody>\n",
       "    <tr>\n",
       "      <th>0</th>\n",
       "      <td>0</td>\n",
       "      <td>3</td>\n",
       "      <td>22.0</td>\n",
       "      <td>1</td>\n",
       "      <td>0</td>\n",
       "      <td>7.2500</td>\n",
       "      <td>2</td>\n",
       "      <td>1</td>\n",
       "      <td>12</td>\n",
       "      <td>2</td>\n",
       "    </tr>\n",
       "    <tr>\n",
       "      <th>1</th>\n",
       "      <td>1</td>\n",
       "      <td>1</td>\n",
       "      <td>38.0</td>\n",
       "      <td>1</td>\n",
       "      <td>0</td>\n",
       "      <td>71.2833</td>\n",
       "      <td>0</td>\n",
       "      <td>0</td>\n",
       "      <td>13</td>\n",
       "      <td>2</td>\n",
       "    </tr>\n",
       "    <tr>\n",
       "      <th>2</th>\n",
       "      <td>1</td>\n",
       "      <td>3</td>\n",
       "      <td>26.0</td>\n",
       "      <td>0</td>\n",
       "      <td>0</td>\n",
       "      <td>7.9250</td>\n",
       "      <td>2</td>\n",
       "      <td>0</td>\n",
       "      <td>9</td>\n",
       "      <td>1</td>\n",
       "    </tr>\n",
       "    <tr>\n",
       "      <th>3</th>\n",
       "      <td>1</td>\n",
       "      <td>1</td>\n",
       "      <td>35.0</td>\n",
       "      <td>1</td>\n",
       "      <td>0</td>\n",
       "      <td>53.1000</td>\n",
       "      <td>2</td>\n",
       "      <td>0</td>\n",
       "      <td>13</td>\n",
       "      <td>2</td>\n",
       "    </tr>\n",
       "    <tr>\n",
       "      <th>4</th>\n",
       "      <td>0</td>\n",
       "      <td>3</td>\n",
       "      <td>35.0</td>\n",
       "      <td>0</td>\n",
       "      <td>0</td>\n",
       "      <td>8.0500</td>\n",
       "      <td>2</td>\n",
       "      <td>1</td>\n",
       "      <td>12</td>\n",
       "      <td>1</td>\n",
       "    </tr>\n",
       "  </tbody>\n",
       "</table>\n",
       "</div>"
      ],
      "text/plain": [
       "   Survived  Pclass   Age  SibSp  Parch     Fare  Embarked_Code  Sex_Code  \\\n",
       "0         0       3  22.0      1      0   7.2500              2         1   \n",
       "1         1       1  38.0      1      0  71.2833              0         0   \n",
       "2         1       3  26.0      0      0   7.9250              2         0   \n",
       "3         1       1  35.0      1      0  53.1000              2         0   \n",
       "4         0       3  35.0      0      0   8.0500              2         1   \n",
       "\n",
       "   Title_Code  Family Size  \n",
       "0          12            2  \n",
       "1          13            2  \n",
       "2           9            1  \n",
       "3          13            2  \n",
       "4          12            1  "
      ]
     },
     "execution_count": 41,
     "metadata": {},
     "output_type": "execute_result"
    }
   ],
   "source": [
    "train_df.head()"
   ]
  },
  {
   "cell_type": "code",
   "execution_count": 42,
   "metadata": {
    "execution": {
     "iopub.execute_input": "2021-01-31T05:11:12.560258Z",
     "iopub.status.busy": "2021-01-31T05:11:12.559315Z",
     "iopub.status.idle": "2021-01-31T05:11:12.573678Z",
     "shell.execute_reply": "2021-01-31T05:11:12.574122Z"
    },
    "papermill": {
     "duration": 0.080748,
     "end_time": "2021-01-31T05:11:12.574321",
     "exception": false,
     "start_time": "2021-01-31T05:11:12.493573",
     "status": "completed"
    },
    "scrolled": true,
    "tags": []
   },
   "outputs": [
    {
     "data": {
      "text/html": [
       "<div>\n",
       "<style scoped>\n",
       "    .dataframe tbody tr th:only-of-type {\n",
       "        vertical-align: middle;\n",
       "    }\n",
       "\n",
       "    .dataframe tbody tr th {\n",
       "        vertical-align: top;\n",
       "    }\n",
       "\n",
       "    .dataframe thead th {\n",
       "        text-align: right;\n",
       "    }\n",
       "</style>\n",
       "<table border=\"1\" class=\"dataframe\">\n",
       "  <thead>\n",
       "    <tr style=\"text-align: right;\">\n",
       "      <th></th>\n",
       "      <th>Pclass</th>\n",
       "      <th>Age</th>\n",
       "      <th>SibSp</th>\n",
       "      <th>Parch</th>\n",
       "      <th>Fare</th>\n",
       "      <th>Embarked_Code</th>\n",
       "      <th>Sex_Code</th>\n",
       "      <th>Title_Code</th>\n",
       "      <th>Family Size</th>\n",
       "    </tr>\n",
       "  </thead>\n",
       "  <tbody>\n",
       "    <tr>\n",
       "      <th>0</th>\n",
       "      <td>3</td>\n",
       "      <td>34.5</td>\n",
       "      <td>0</td>\n",
       "      <td>0</td>\n",
       "      <td>7.8292</td>\n",
       "      <td>1</td>\n",
       "      <td>1</td>\n",
       "      <td>5</td>\n",
       "      <td>1</td>\n",
       "    </tr>\n",
       "    <tr>\n",
       "      <th>1</th>\n",
       "      <td>3</td>\n",
       "      <td>47.0</td>\n",
       "      <td>1</td>\n",
       "      <td>0</td>\n",
       "      <td>7.0000</td>\n",
       "      <td>2</td>\n",
       "      <td>0</td>\n",
       "      <td>6</td>\n",
       "      <td>2</td>\n",
       "    </tr>\n",
       "    <tr>\n",
       "      <th>2</th>\n",
       "      <td>2</td>\n",
       "      <td>62.0</td>\n",
       "      <td>0</td>\n",
       "      <td>0</td>\n",
       "      <td>9.6875</td>\n",
       "      <td>1</td>\n",
       "      <td>1</td>\n",
       "      <td>5</td>\n",
       "      <td>1</td>\n",
       "    </tr>\n",
       "    <tr>\n",
       "      <th>3</th>\n",
       "      <td>3</td>\n",
       "      <td>27.0</td>\n",
       "      <td>0</td>\n",
       "      <td>0</td>\n",
       "      <td>8.6625</td>\n",
       "      <td>2</td>\n",
       "      <td>1</td>\n",
       "      <td>5</td>\n",
       "      <td>1</td>\n",
       "    </tr>\n",
       "    <tr>\n",
       "      <th>4</th>\n",
       "      <td>3</td>\n",
       "      <td>22.0</td>\n",
       "      <td>1</td>\n",
       "      <td>1</td>\n",
       "      <td>12.2875</td>\n",
       "      <td>2</td>\n",
       "      <td>0</td>\n",
       "      <td>6</td>\n",
       "      <td>3</td>\n",
       "    </tr>\n",
       "  </tbody>\n",
       "</table>\n",
       "</div>"
      ],
      "text/plain": [
       "   Pclass   Age  SibSp  Parch     Fare  Embarked_Code  Sex_Code  Title_Code  \\\n",
       "0       3  34.5      0      0   7.8292              1         1           5   \n",
       "1       3  47.0      1      0   7.0000              2         0           6   \n",
       "2       2  62.0      0      0   9.6875              1         1           5   \n",
       "3       3  27.0      0      0   8.6625              2         1           5   \n",
       "4       3  22.0      1      1  12.2875              2         0           6   \n",
       "\n",
       "   Family Size  \n",
       "0            1  \n",
       "1            2  \n",
       "2            1  \n",
       "3            1  \n",
       "4            3  "
      ]
     },
     "execution_count": 42,
     "metadata": {},
     "output_type": "execute_result"
    }
   ],
   "source": [
    "test_df.head()"
   ]
  },
  {
   "cell_type": "markdown",
   "metadata": {},
   "source": [
    "Let's check how the new feature we created **Family Size** relates to **Survived** column"
   ]
  },
  {
   "cell_type": "code",
   "execution_count": 43,
   "metadata": {
    "execution": {
     "iopub.execute_input": "2021-01-31T05:11:13.139464Z",
     "iopub.status.busy": "2021-01-31T05:11:13.138501Z",
     "iopub.status.idle": "2021-01-31T05:11:13.153288Z",
     "shell.execute_reply": "2021-01-31T05:11:13.153763Z"
    },
    "papermill": {
     "duration": 0.082346,
     "end_time": "2021-01-31T05:11:13.153942",
     "exception": false,
     "start_time": "2021-01-31T05:11:13.071596",
     "status": "completed"
    },
    "scrolled": true,
    "tags": []
   },
   "outputs": [
    {
     "data": {
      "text/html": [
       "<div>\n",
       "<style scoped>\n",
       "    .dataframe tbody tr th:only-of-type {\n",
       "        vertical-align: middle;\n",
       "    }\n",
       "\n",
       "    .dataframe tbody tr th {\n",
       "        vertical-align: top;\n",
       "    }\n",
       "\n",
       "    .dataframe thead th {\n",
       "        text-align: right;\n",
       "    }\n",
       "</style>\n",
       "<table border=\"1\" class=\"dataframe\">\n",
       "  <thead>\n",
       "    <tr style=\"text-align: right;\">\n",
       "      <th></th>\n",
       "      <th>Survived</th>\n",
       "    </tr>\n",
       "    <tr>\n",
       "      <th>Family Size</th>\n",
       "      <th></th>\n",
       "    </tr>\n",
       "  </thead>\n",
       "  <tbody>\n",
       "    <tr>\n",
       "      <th>4</th>\n",
       "      <td>0.724138</td>\n",
       "    </tr>\n",
       "    <tr>\n",
       "      <th>3</th>\n",
       "      <td>0.578431</td>\n",
       "    </tr>\n",
       "    <tr>\n",
       "      <th>2</th>\n",
       "      <td>0.552795</td>\n",
       "    </tr>\n",
       "    <tr>\n",
       "      <th>7</th>\n",
       "      <td>0.333333</td>\n",
       "    </tr>\n",
       "    <tr>\n",
       "      <th>1</th>\n",
       "      <td>0.303538</td>\n",
       "    </tr>\n",
       "    <tr>\n",
       "      <th>5</th>\n",
       "      <td>0.200000</td>\n",
       "    </tr>\n",
       "    <tr>\n",
       "      <th>6</th>\n",
       "      <td>0.136364</td>\n",
       "    </tr>\n",
       "    <tr>\n",
       "      <th>8</th>\n",
       "      <td>0.000000</td>\n",
       "    </tr>\n",
       "    <tr>\n",
       "      <th>11</th>\n",
       "      <td>0.000000</td>\n",
       "    </tr>\n",
       "  </tbody>\n",
       "</table>\n",
       "</div>"
      ],
      "text/plain": [
       "             Survived\n",
       "Family Size          \n",
       "4            0.724138\n",
       "3            0.578431\n",
       "2            0.552795\n",
       "7            0.333333\n",
       "1            0.303538\n",
       "5            0.200000\n",
       "6            0.136364\n",
       "8            0.000000\n",
       "11           0.000000"
      ]
     },
     "execution_count": 43,
     "metadata": {},
     "output_type": "execute_result"
    }
   ],
   "source": [
    "train_df[['Family Size', 'Survived']].groupby(['Family Size']).mean().sort_values(['Survived'], ascending=False)"
   ]
  },
  {
   "cell_type": "markdown",
   "metadata": {},
   "source": [
    "This gives us a better picture than our **SibSp** and **ParCh** columns analyzed individually. We can derive another column from this called **IsAlone** which can help us understand if there is a better chance of survival of the passenger if they travel alone."
   ]
  },
  {
   "cell_type": "code",
   "execution_count": 44,
   "metadata": {
    "execution": {
     "iopub.execute_input": "2021-01-31T05:11:13.444751Z",
     "iopub.status.busy": "2021-01-31T05:11:13.444105Z",
     "iopub.status.idle": "2021-01-31T05:11:13.451265Z",
     "shell.execute_reply": "2021-01-31T05:11:13.451772Z"
    },
    "papermill": {
     "duration": 0.076998,
     "end_time": "2021-01-31T05:11:13.451960",
     "exception": false,
     "start_time": "2021-01-31T05:11:13.374962",
     "status": "completed"
    },
    "tags": []
   },
   "outputs": [],
   "source": [
    "# IsAlone is when FamilySize = 1\n",
    "for dataset in combine:\n",
    "    dataset['IsAlone'] = 0\n",
    "    dataset.loc[dataset['Family Size'] == 1, 'IsAlone'] = 1"
   ]
  },
  {
   "cell_type": "code",
   "execution_count": 45,
   "metadata": {
    "execution": {
     "iopub.execute_input": "2021-01-31T05:11:13.588661Z",
     "iopub.status.busy": "2021-01-31T05:11:13.588021Z",
     "iopub.status.idle": "2021-01-31T05:11:13.602345Z",
     "shell.execute_reply": "2021-01-31T05:11:13.602789Z"
    },
    "papermill": {
     "duration": 0.084592,
     "end_time": "2021-01-31T05:11:13.602975",
     "exception": false,
     "start_time": "2021-01-31T05:11:13.518383",
     "status": "completed"
    },
    "tags": []
   },
   "outputs": [
    {
     "data": {
      "text/html": [
       "<div>\n",
       "<style scoped>\n",
       "    .dataframe tbody tr th:only-of-type {\n",
       "        vertical-align: middle;\n",
       "    }\n",
       "\n",
       "    .dataframe tbody tr th {\n",
       "        vertical-align: top;\n",
       "    }\n",
       "\n",
       "    .dataframe thead th {\n",
       "        text-align: right;\n",
       "    }\n",
       "</style>\n",
       "<table border=\"1\" class=\"dataframe\">\n",
       "  <thead>\n",
       "    <tr style=\"text-align: right;\">\n",
       "      <th></th>\n",
       "      <th>Survived</th>\n",
       "      <th>Pclass</th>\n",
       "      <th>Age</th>\n",
       "      <th>SibSp</th>\n",
       "      <th>Parch</th>\n",
       "      <th>Fare</th>\n",
       "      <th>Embarked_Code</th>\n",
       "      <th>Sex_Code</th>\n",
       "      <th>Title_Code</th>\n",
       "      <th>Family Size</th>\n",
       "      <th>IsAlone</th>\n",
       "    </tr>\n",
       "  </thead>\n",
       "  <tbody>\n",
       "    <tr>\n",
       "      <th>0</th>\n",
       "      <td>0</td>\n",
       "      <td>3</td>\n",
       "      <td>22.0</td>\n",
       "      <td>1</td>\n",
       "      <td>0</td>\n",
       "      <td>7.2500</td>\n",
       "      <td>2</td>\n",
       "      <td>1</td>\n",
       "      <td>12</td>\n",
       "      <td>2</td>\n",
       "      <td>0</td>\n",
       "    </tr>\n",
       "    <tr>\n",
       "      <th>1</th>\n",
       "      <td>1</td>\n",
       "      <td>1</td>\n",
       "      <td>38.0</td>\n",
       "      <td>1</td>\n",
       "      <td>0</td>\n",
       "      <td>71.2833</td>\n",
       "      <td>0</td>\n",
       "      <td>0</td>\n",
       "      <td>13</td>\n",
       "      <td>2</td>\n",
       "      <td>0</td>\n",
       "    </tr>\n",
       "    <tr>\n",
       "      <th>2</th>\n",
       "      <td>1</td>\n",
       "      <td>3</td>\n",
       "      <td>26.0</td>\n",
       "      <td>0</td>\n",
       "      <td>0</td>\n",
       "      <td>7.9250</td>\n",
       "      <td>2</td>\n",
       "      <td>0</td>\n",
       "      <td>9</td>\n",
       "      <td>1</td>\n",
       "      <td>1</td>\n",
       "    </tr>\n",
       "    <tr>\n",
       "      <th>3</th>\n",
       "      <td>1</td>\n",
       "      <td>1</td>\n",
       "      <td>35.0</td>\n",
       "      <td>1</td>\n",
       "      <td>0</td>\n",
       "      <td>53.1000</td>\n",
       "      <td>2</td>\n",
       "      <td>0</td>\n",
       "      <td>13</td>\n",
       "      <td>2</td>\n",
       "      <td>0</td>\n",
       "    </tr>\n",
       "    <tr>\n",
       "      <th>4</th>\n",
       "      <td>0</td>\n",
       "      <td>3</td>\n",
       "      <td>35.0</td>\n",
       "      <td>0</td>\n",
       "      <td>0</td>\n",
       "      <td>8.0500</td>\n",
       "      <td>2</td>\n",
       "      <td>1</td>\n",
       "      <td>12</td>\n",
       "      <td>1</td>\n",
       "      <td>1</td>\n",
       "    </tr>\n",
       "  </tbody>\n",
       "</table>\n",
       "</div>"
      ],
      "text/plain": [
       "   Survived  Pclass   Age  SibSp  Parch     Fare  Embarked_Code  Sex_Code  \\\n",
       "0         0       3  22.0      1      0   7.2500              2         1   \n",
       "1         1       1  38.0      1      0  71.2833              0         0   \n",
       "2         1       3  26.0      0      0   7.9250              2         0   \n",
       "3         1       1  35.0      1      0  53.1000              2         0   \n",
       "4         0       3  35.0      0      0   8.0500              2         1   \n",
       "\n",
       "   Title_Code  Family Size  IsAlone  \n",
       "0          12            2        0  \n",
       "1          13            2        0  \n",
       "2           9            1        1  \n",
       "3          13            2        0  \n",
       "4          12            1        1  "
      ]
     },
     "execution_count": 45,
     "metadata": {},
     "output_type": "execute_result"
    }
   ],
   "source": [
    "train_df.head()"
   ]
  },
  {
   "cell_type": "code",
   "execution_count": 46,
   "metadata": {
    "execution": {
     "iopub.execute_input": "2021-01-31T05:11:13.742529Z",
     "iopub.status.busy": "2021-01-31T05:11:13.741682Z",
     "iopub.status.idle": "2021-01-31T05:11:13.755776Z",
     "shell.execute_reply": "2021-01-31T05:11:13.756297Z"
    },
    "papermill": {
     "duration": 0.085463,
     "end_time": "2021-01-31T05:11:13.756476",
     "exception": false,
     "start_time": "2021-01-31T05:11:13.671013",
     "status": "completed"
    },
    "tags": []
   },
   "outputs": [
    {
     "data": {
      "text/html": [
       "<div>\n",
       "<style scoped>\n",
       "    .dataframe tbody tr th:only-of-type {\n",
       "        vertical-align: middle;\n",
       "    }\n",
       "\n",
       "    .dataframe tbody tr th {\n",
       "        vertical-align: top;\n",
       "    }\n",
       "\n",
       "    .dataframe thead th {\n",
       "        text-align: right;\n",
       "    }\n",
       "</style>\n",
       "<table border=\"1\" class=\"dataframe\">\n",
       "  <thead>\n",
       "    <tr style=\"text-align: right;\">\n",
       "      <th></th>\n",
       "      <th>Pclass</th>\n",
       "      <th>Age</th>\n",
       "      <th>SibSp</th>\n",
       "      <th>Parch</th>\n",
       "      <th>Fare</th>\n",
       "      <th>Embarked_Code</th>\n",
       "      <th>Sex_Code</th>\n",
       "      <th>Title_Code</th>\n",
       "      <th>Family Size</th>\n",
       "      <th>IsAlone</th>\n",
       "    </tr>\n",
       "  </thead>\n",
       "  <tbody>\n",
       "    <tr>\n",
       "      <th>0</th>\n",
       "      <td>3</td>\n",
       "      <td>34.5</td>\n",
       "      <td>0</td>\n",
       "      <td>0</td>\n",
       "      <td>7.8292</td>\n",
       "      <td>1</td>\n",
       "      <td>1</td>\n",
       "      <td>5</td>\n",
       "      <td>1</td>\n",
       "      <td>1</td>\n",
       "    </tr>\n",
       "    <tr>\n",
       "      <th>1</th>\n",
       "      <td>3</td>\n",
       "      <td>47.0</td>\n",
       "      <td>1</td>\n",
       "      <td>0</td>\n",
       "      <td>7.0000</td>\n",
       "      <td>2</td>\n",
       "      <td>0</td>\n",
       "      <td>6</td>\n",
       "      <td>2</td>\n",
       "      <td>0</td>\n",
       "    </tr>\n",
       "    <tr>\n",
       "      <th>2</th>\n",
       "      <td>2</td>\n",
       "      <td>62.0</td>\n",
       "      <td>0</td>\n",
       "      <td>0</td>\n",
       "      <td>9.6875</td>\n",
       "      <td>1</td>\n",
       "      <td>1</td>\n",
       "      <td>5</td>\n",
       "      <td>1</td>\n",
       "      <td>1</td>\n",
       "    </tr>\n",
       "    <tr>\n",
       "      <th>3</th>\n",
       "      <td>3</td>\n",
       "      <td>27.0</td>\n",
       "      <td>0</td>\n",
       "      <td>0</td>\n",
       "      <td>8.6625</td>\n",
       "      <td>2</td>\n",
       "      <td>1</td>\n",
       "      <td>5</td>\n",
       "      <td>1</td>\n",
       "      <td>1</td>\n",
       "    </tr>\n",
       "    <tr>\n",
       "      <th>4</th>\n",
       "      <td>3</td>\n",
       "      <td>22.0</td>\n",
       "      <td>1</td>\n",
       "      <td>1</td>\n",
       "      <td>12.2875</td>\n",
       "      <td>2</td>\n",
       "      <td>0</td>\n",
       "      <td>6</td>\n",
       "      <td>3</td>\n",
       "      <td>0</td>\n",
       "    </tr>\n",
       "  </tbody>\n",
       "</table>\n",
       "</div>"
      ],
      "text/plain": [
       "   Pclass   Age  SibSp  Parch     Fare  Embarked_Code  Sex_Code  Title_Code  \\\n",
       "0       3  34.5      0      0   7.8292              1         1           5   \n",
       "1       3  47.0      1      0   7.0000              2         0           6   \n",
       "2       2  62.0      0      0   9.6875              1         1           5   \n",
       "3       3  27.0      0      0   8.6625              2         1           5   \n",
       "4       3  22.0      1      1  12.2875              2         0           6   \n",
       "\n",
       "   Family Size  IsAlone  \n",
       "0            1        1  \n",
       "1            2        0  \n",
       "2            1        1  \n",
       "3            1        1  \n",
       "4            3        0  "
      ]
     },
     "execution_count": 46,
     "metadata": {},
     "output_type": "execute_result"
    }
   ],
   "source": [
    "test_df.head()"
   ]
  },
  {
   "cell_type": "code",
   "execution_count": 47,
   "metadata": {
    "execution": {
     "iopub.execute_input": "2021-01-31T05:11:13.895897Z",
     "iopub.status.busy": "2021-01-31T05:11:13.895248Z",
     "iopub.status.idle": "2021-01-31T05:11:13.907263Z",
     "shell.execute_reply": "2021-01-31T05:11:13.907755Z"
    },
    "papermill": {
     "duration": 0.083091,
     "end_time": "2021-01-31T05:11:13.907941",
     "exception": false,
     "start_time": "2021-01-31T05:11:13.824850",
     "status": "completed"
    },
    "scrolled": true,
    "tags": []
   },
   "outputs": [
    {
     "data": {
      "text/html": [
       "<div>\n",
       "<style scoped>\n",
       "    .dataframe tbody tr th:only-of-type {\n",
       "        vertical-align: middle;\n",
       "    }\n",
       "\n",
       "    .dataframe tbody tr th {\n",
       "        vertical-align: top;\n",
       "    }\n",
       "\n",
       "    .dataframe thead th {\n",
       "        text-align: right;\n",
       "    }\n",
       "</style>\n",
       "<table border=\"1\" class=\"dataframe\">\n",
       "  <thead>\n",
       "    <tr style=\"text-align: right;\">\n",
       "      <th></th>\n",
       "      <th>Survived</th>\n",
       "    </tr>\n",
       "    <tr>\n",
       "      <th>IsAlone</th>\n",
       "      <th></th>\n",
       "    </tr>\n",
       "  </thead>\n",
       "  <tbody>\n",
       "    <tr>\n",
       "      <th>0</th>\n",
       "      <td>0.505650</td>\n",
       "    </tr>\n",
       "    <tr>\n",
       "      <th>1</th>\n",
       "      <td>0.303538</td>\n",
       "    </tr>\n",
       "  </tbody>\n",
       "</table>\n",
       "</div>"
      ],
      "text/plain": [
       "         Survived\n",
       "IsAlone          \n",
       "0        0.505650\n",
       "1        0.303538"
      ]
     },
     "execution_count": 47,
     "metadata": {},
     "output_type": "execute_result"
    }
   ],
   "source": [
    "# how Survived relates to IsAlone\n",
    "train_df[['IsAlone', 'Survived']].groupby(['IsAlone']).mean().sort_values(['Survived'], ascending=False)"
   ]
  },
  {
   "cell_type": "markdown",
   "metadata": {},
   "source": [
    "Okay, so there is a better chance of survival if I have a family. "
   ]
  },
  {
   "cell_type": "markdown",
   "metadata": {},
   "source": [
    "For our **Age** column as well the correlation is very less, so we can check f we divide these into age groups and then remap our Survival Correlation, whether that makes a difference."
   ]
  },
  {
   "cell_type": "code",
   "execution_count": 48,
   "metadata": {
    "execution": {
     "iopub.execute_input": "2021-01-31T05:11:14.059316Z",
     "iopub.status.busy": "2021-01-31T05:11:14.058598Z",
     "iopub.status.idle": "2021-01-31T05:11:14.060784Z",
     "shell.execute_reply": "2021-01-31T05:11:14.061261Z"
    },
    "papermill": {
     "duration": 0.084708,
     "end_time": "2021-01-31T05:11:14.061442",
     "exception": false,
     "start_time": "2021-01-31T05:11:13.976734",
     "status": "completed"
    },
    "tags": []
   },
   "outputs": [],
   "source": [
    "# creating AgeBins\n",
    "for dataset in combine:\n",
    "    dataset['AgeBin'] = dataset['Age'].apply(lambda x: 1 if np.logical_and(x > 16, x <=32) else 2 if np.logical_and(x > 32, x<= 48) else 3 if np.logical_and(x > 48, x <= 64) else 4 if (x > 64) else 0)"
   ]
  },
  {
   "cell_type": "code",
   "execution_count": 49,
   "metadata": {
    "execution": {
     "iopub.execute_input": "2021-01-31T05:11:14.201647Z",
     "iopub.status.busy": "2021-01-31T05:11:14.200977Z",
     "iopub.status.idle": "2021-01-31T05:11:14.224021Z",
     "shell.execute_reply": "2021-01-31T05:11:14.223376Z"
    },
    "papermill": {
     "duration": 0.094157,
     "end_time": "2021-01-31T05:11:14.224184",
     "exception": false,
     "start_time": "2021-01-31T05:11:14.130027",
     "status": "completed"
    },
    "tags": []
   },
   "outputs": [
    {
     "data": {
      "text/html": [
       "<div>\n",
       "<style scoped>\n",
       "    .dataframe tbody tr th:only-of-type {\n",
       "        vertical-align: middle;\n",
       "    }\n",
       "\n",
       "    .dataframe tbody tr th {\n",
       "        vertical-align: top;\n",
       "    }\n",
       "\n",
       "    .dataframe thead th {\n",
       "        text-align: right;\n",
       "    }\n",
       "</style>\n",
       "<table border=\"1\" class=\"dataframe\">\n",
       "  <thead>\n",
       "    <tr style=\"text-align: right;\">\n",
       "      <th></th>\n",
       "      <th>Survived</th>\n",
       "      <th>Pclass</th>\n",
       "      <th>Age</th>\n",
       "      <th>SibSp</th>\n",
       "      <th>Parch</th>\n",
       "      <th>Fare</th>\n",
       "      <th>Embarked_Code</th>\n",
       "      <th>Sex_Code</th>\n",
       "      <th>Title_Code</th>\n",
       "      <th>Family Size</th>\n",
       "      <th>IsAlone</th>\n",
       "      <th>AgeBin</th>\n",
       "    </tr>\n",
       "  </thead>\n",
       "  <tbody>\n",
       "    <tr>\n",
       "      <th>0</th>\n",
       "      <td>0</td>\n",
       "      <td>3</td>\n",
       "      <td>22.0</td>\n",
       "      <td>1</td>\n",
       "      <td>0</td>\n",
       "      <td>7.2500</td>\n",
       "      <td>2</td>\n",
       "      <td>1</td>\n",
       "      <td>12</td>\n",
       "      <td>2</td>\n",
       "      <td>0</td>\n",
       "      <td>1</td>\n",
       "    </tr>\n",
       "    <tr>\n",
       "      <th>1</th>\n",
       "      <td>1</td>\n",
       "      <td>1</td>\n",
       "      <td>38.0</td>\n",
       "      <td>1</td>\n",
       "      <td>0</td>\n",
       "      <td>71.2833</td>\n",
       "      <td>0</td>\n",
       "      <td>0</td>\n",
       "      <td>13</td>\n",
       "      <td>2</td>\n",
       "      <td>0</td>\n",
       "      <td>2</td>\n",
       "    </tr>\n",
       "    <tr>\n",
       "      <th>2</th>\n",
       "      <td>1</td>\n",
       "      <td>3</td>\n",
       "      <td>26.0</td>\n",
       "      <td>0</td>\n",
       "      <td>0</td>\n",
       "      <td>7.9250</td>\n",
       "      <td>2</td>\n",
       "      <td>0</td>\n",
       "      <td>9</td>\n",
       "      <td>1</td>\n",
       "      <td>1</td>\n",
       "      <td>1</td>\n",
       "    </tr>\n",
       "    <tr>\n",
       "      <th>3</th>\n",
       "      <td>1</td>\n",
       "      <td>1</td>\n",
       "      <td>35.0</td>\n",
       "      <td>1</td>\n",
       "      <td>0</td>\n",
       "      <td>53.1000</td>\n",
       "      <td>2</td>\n",
       "      <td>0</td>\n",
       "      <td>13</td>\n",
       "      <td>2</td>\n",
       "      <td>0</td>\n",
       "      <td>2</td>\n",
       "    </tr>\n",
       "    <tr>\n",
       "      <th>4</th>\n",
       "      <td>0</td>\n",
       "      <td>3</td>\n",
       "      <td>35.0</td>\n",
       "      <td>0</td>\n",
       "      <td>0</td>\n",
       "      <td>8.0500</td>\n",
       "      <td>2</td>\n",
       "      <td>1</td>\n",
       "      <td>12</td>\n",
       "      <td>1</td>\n",
       "      <td>1</td>\n",
       "      <td>2</td>\n",
       "    </tr>\n",
       "  </tbody>\n",
       "</table>\n",
       "</div>"
      ],
      "text/plain": [
       "   Survived  Pclass   Age  SibSp  Parch     Fare  Embarked_Code  Sex_Code  \\\n",
       "0         0       3  22.0      1      0   7.2500              2         1   \n",
       "1         1       1  38.0      1      0  71.2833              0         0   \n",
       "2         1       3  26.0      0      0   7.9250              2         0   \n",
       "3         1       1  35.0      1      0  53.1000              2         0   \n",
       "4         0       3  35.0      0      0   8.0500              2         1   \n",
       "\n",
       "   Title_Code  Family Size  IsAlone  AgeBin  \n",
       "0          12            2        0       1  \n",
       "1          13            2        0       2  \n",
       "2           9            1        1       1  \n",
       "3          13            2        0       2  \n",
       "4          12            1        1       2  "
      ]
     },
     "execution_count": 49,
     "metadata": {},
     "output_type": "execute_result"
    }
   ],
   "source": [
    "train_df.head(5)"
   ]
  },
  {
   "cell_type": "code",
   "execution_count": 50,
   "metadata": {
    "scrolled": true
   },
   "outputs": [
    {
     "data": {
      "text/html": [
       "<div>\n",
       "<style scoped>\n",
       "    .dataframe tbody tr th:only-of-type {\n",
       "        vertical-align: middle;\n",
       "    }\n",
       "\n",
       "    .dataframe tbody tr th {\n",
       "        vertical-align: top;\n",
       "    }\n",
       "\n",
       "    .dataframe thead th {\n",
       "        text-align: right;\n",
       "    }\n",
       "</style>\n",
       "<table border=\"1\" class=\"dataframe\">\n",
       "  <thead>\n",
       "    <tr style=\"text-align: right;\">\n",
       "      <th></th>\n",
       "      <th>Pclass</th>\n",
       "      <th>Age</th>\n",
       "      <th>SibSp</th>\n",
       "      <th>Parch</th>\n",
       "      <th>Fare</th>\n",
       "      <th>Embarked_Code</th>\n",
       "      <th>Sex_Code</th>\n",
       "      <th>Title_Code</th>\n",
       "      <th>Family Size</th>\n",
       "      <th>IsAlone</th>\n",
       "      <th>AgeBin</th>\n",
       "    </tr>\n",
       "  </thead>\n",
       "  <tbody>\n",
       "    <tr>\n",
       "      <th>0</th>\n",
       "      <td>3</td>\n",
       "      <td>34.5</td>\n",
       "      <td>0</td>\n",
       "      <td>0</td>\n",
       "      <td>7.8292</td>\n",
       "      <td>1</td>\n",
       "      <td>1</td>\n",
       "      <td>5</td>\n",
       "      <td>1</td>\n",
       "      <td>1</td>\n",
       "      <td>2</td>\n",
       "    </tr>\n",
       "    <tr>\n",
       "      <th>1</th>\n",
       "      <td>3</td>\n",
       "      <td>47.0</td>\n",
       "      <td>1</td>\n",
       "      <td>0</td>\n",
       "      <td>7.0000</td>\n",
       "      <td>2</td>\n",
       "      <td>0</td>\n",
       "      <td>6</td>\n",
       "      <td>2</td>\n",
       "      <td>0</td>\n",
       "      <td>2</td>\n",
       "    </tr>\n",
       "    <tr>\n",
       "      <th>2</th>\n",
       "      <td>2</td>\n",
       "      <td>62.0</td>\n",
       "      <td>0</td>\n",
       "      <td>0</td>\n",
       "      <td>9.6875</td>\n",
       "      <td>1</td>\n",
       "      <td>1</td>\n",
       "      <td>5</td>\n",
       "      <td>1</td>\n",
       "      <td>1</td>\n",
       "      <td>3</td>\n",
       "    </tr>\n",
       "    <tr>\n",
       "      <th>3</th>\n",
       "      <td>3</td>\n",
       "      <td>27.0</td>\n",
       "      <td>0</td>\n",
       "      <td>0</td>\n",
       "      <td>8.6625</td>\n",
       "      <td>2</td>\n",
       "      <td>1</td>\n",
       "      <td>5</td>\n",
       "      <td>1</td>\n",
       "      <td>1</td>\n",
       "      <td>1</td>\n",
       "    </tr>\n",
       "    <tr>\n",
       "      <th>4</th>\n",
       "      <td>3</td>\n",
       "      <td>22.0</td>\n",
       "      <td>1</td>\n",
       "      <td>1</td>\n",
       "      <td>12.2875</td>\n",
       "      <td>2</td>\n",
       "      <td>0</td>\n",
       "      <td>6</td>\n",
       "      <td>3</td>\n",
       "      <td>0</td>\n",
       "      <td>1</td>\n",
       "    </tr>\n",
       "  </tbody>\n",
       "</table>\n",
       "</div>"
      ],
      "text/plain": [
       "   Pclass   Age  SibSp  Parch     Fare  Embarked_Code  Sex_Code  Title_Code  \\\n",
       "0       3  34.5      0      0   7.8292              1         1           5   \n",
       "1       3  47.0      1      0   7.0000              2         0           6   \n",
       "2       2  62.0      0      0   9.6875              1         1           5   \n",
       "3       3  27.0      0      0   8.6625              2         1           5   \n",
       "4       3  22.0      1      1  12.2875              2         0           6   \n",
       "\n",
       "   Family Size  IsAlone  AgeBin  \n",
       "0            1        1       2  \n",
       "1            2        0       2  \n",
       "2            1        1       3  \n",
       "3            1        1       1  \n",
       "4            3        0       1  "
      ]
     },
     "execution_count": 50,
     "metadata": {},
     "output_type": "execute_result"
    }
   ],
   "source": [
    "test_df.head(5)"
   ]
  },
  {
   "cell_type": "markdown",
   "metadata": {},
   "source": [
    "Repeating the same for **Fare** column."
   ]
  },
  {
   "cell_type": "code",
   "execution_count": 51,
   "metadata": {
    "execution": {
     "iopub.execute_input": "2021-01-31T05:11:14.376044Z",
     "iopub.status.busy": "2021-01-31T05:11:14.367434Z",
     "iopub.status.idle": "2021-01-31T05:11:14.383013Z",
     "shell.execute_reply": "2021-01-31T05:11:14.382384Z"
    },
    "papermill": {
     "duration": 0.089728,
     "end_time": "2021-01-31T05:11:14.383159",
     "exception": false,
     "start_time": "2021-01-31T05:11:14.293431",
     "status": "completed"
    },
    "tags": []
   },
   "outputs": [],
   "source": [
    "for dataset in combine:\n",
    "    dataset['FareBin'] = pd.qcut(dataset['Fare'], 4)"
   ]
  },
  {
   "cell_type": "code",
   "execution_count": 52,
   "metadata": {
    "execution": {
     "iopub.execute_input": "2021-01-31T05:11:14.525661Z",
     "iopub.status.busy": "2021-01-31T05:11:14.524983Z",
     "iopub.status.idle": "2021-01-31T05:11:14.545680Z",
     "shell.execute_reply": "2021-01-31T05:11:14.546196Z"
    },
    "papermill": {
     "duration": 0.09325,
     "end_time": "2021-01-31T05:11:14.546404",
     "exception": false,
     "start_time": "2021-01-31T05:11:14.453154",
     "status": "completed"
    },
    "tags": []
   },
   "outputs": [
    {
     "data": {
      "text/html": [
       "<div>\n",
       "<style scoped>\n",
       "    .dataframe tbody tr th:only-of-type {\n",
       "        vertical-align: middle;\n",
       "    }\n",
       "\n",
       "    .dataframe tbody tr th {\n",
       "        vertical-align: top;\n",
       "    }\n",
       "\n",
       "    .dataframe thead th {\n",
       "        text-align: right;\n",
       "    }\n",
       "</style>\n",
       "<table border=\"1\" class=\"dataframe\">\n",
       "  <thead>\n",
       "    <tr style=\"text-align: right;\">\n",
       "      <th></th>\n",
       "      <th>Survived</th>\n",
       "      <th>Pclass</th>\n",
       "      <th>Age</th>\n",
       "      <th>SibSp</th>\n",
       "      <th>Parch</th>\n",
       "      <th>Fare</th>\n",
       "      <th>Embarked_Code</th>\n",
       "      <th>Sex_Code</th>\n",
       "      <th>Title_Code</th>\n",
       "      <th>Family Size</th>\n",
       "      <th>IsAlone</th>\n",
       "      <th>AgeBin</th>\n",
       "      <th>FareBin</th>\n",
       "    </tr>\n",
       "  </thead>\n",
       "  <tbody>\n",
       "    <tr>\n",
       "      <th>0</th>\n",
       "      <td>0</td>\n",
       "      <td>3</td>\n",
       "      <td>22.0</td>\n",
       "      <td>1</td>\n",
       "      <td>0</td>\n",
       "      <td>7.2500</td>\n",
       "      <td>2</td>\n",
       "      <td>1</td>\n",
       "      <td>12</td>\n",
       "      <td>2</td>\n",
       "      <td>0</td>\n",
       "      <td>1</td>\n",
       "      <td>(-0.001, 7.91]</td>\n",
       "    </tr>\n",
       "    <tr>\n",
       "      <th>1</th>\n",
       "      <td>1</td>\n",
       "      <td>1</td>\n",
       "      <td>38.0</td>\n",
       "      <td>1</td>\n",
       "      <td>0</td>\n",
       "      <td>71.2833</td>\n",
       "      <td>0</td>\n",
       "      <td>0</td>\n",
       "      <td>13</td>\n",
       "      <td>2</td>\n",
       "      <td>0</td>\n",
       "      <td>2</td>\n",
       "      <td>(31.0, 512.329]</td>\n",
       "    </tr>\n",
       "    <tr>\n",
       "      <th>2</th>\n",
       "      <td>1</td>\n",
       "      <td>3</td>\n",
       "      <td>26.0</td>\n",
       "      <td>0</td>\n",
       "      <td>0</td>\n",
       "      <td>7.9250</td>\n",
       "      <td>2</td>\n",
       "      <td>0</td>\n",
       "      <td>9</td>\n",
       "      <td>1</td>\n",
       "      <td>1</td>\n",
       "      <td>1</td>\n",
       "      <td>(7.91, 14.454]</td>\n",
       "    </tr>\n",
       "    <tr>\n",
       "      <th>3</th>\n",
       "      <td>1</td>\n",
       "      <td>1</td>\n",
       "      <td>35.0</td>\n",
       "      <td>1</td>\n",
       "      <td>0</td>\n",
       "      <td>53.1000</td>\n",
       "      <td>2</td>\n",
       "      <td>0</td>\n",
       "      <td>13</td>\n",
       "      <td>2</td>\n",
       "      <td>0</td>\n",
       "      <td>2</td>\n",
       "      <td>(31.0, 512.329]</td>\n",
       "    </tr>\n",
       "    <tr>\n",
       "      <th>4</th>\n",
       "      <td>0</td>\n",
       "      <td>3</td>\n",
       "      <td>35.0</td>\n",
       "      <td>0</td>\n",
       "      <td>0</td>\n",
       "      <td>8.0500</td>\n",
       "      <td>2</td>\n",
       "      <td>1</td>\n",
       "      <td>12</td>\n",
       "      <td>1</td>\n",
       "      <td>1</td>\n",
       "      <td>2</td>\n",
       "      <td>(7.91, 14.454]</td>\n",
       "    </tr>\n",
       "  </tbody>\n",
       "</table>\n",
       "</div>"
      ],
      "text/plain": [
       "   Survived  Pclass   Age  SibSp  Parch     Fare  Embarked_Code  Sex_Code  \\\n",
       "0         0       3  22.0      1      0   7.2500              2         1   \n",
       "1         1       1  38.0      1      0  71.2833              0         0   \n",
       "2         1       3  26.0      0      0   7.9250              2         0   \n",
       "3         1       1  35.0      1      0  53.1000              2         0   \n",
       "4         0       3  35.0      0      0   8.0500              2         1   \n",
       "\n",
       "   Title_Code  Family Size  IsAlone  AgeBin          FareBin  \n",
       "0          12            2        0       1   (-0.001, 7.91]  \n",
       "1          13            2        0       2  (31.0, 512.329]  \n",
       "2           9            1        1       1   (7.91, 14.454]  \n",
       "3          13            2        0       2  (31.0, 512.329]  \n",
       "4          12            1        1       2   (7.91, 14.454]  "
      ]
     },
     "execution_count": 52,
     "metadata": {},
     "output_type": "execute_result"
    }
   ],
   "source": [
    "train_df.head()"
   ]
  },
  {
   "cell_type": "code",
   "execution_count": 53,
   "metadata": {
    "execution": {
     "iopub.execute_input": "2021-01-31T05:11:14.703228Z",
     "iopub.status.busy": "2021-01-31T05:11:14.702559Z",
     "iopub.status.idle": "2021-01-31T05:11:14.706950Z",
     "shell.execute_reply": "2021-01-31T05:11:14.706462Z"
    },
    "papermill": {
     "duration": 0.090681,
     "end_time": "2021-01-31T05:11:14.707105",
     "exception": false,
     "start_time": "2021-01-31T05:11:14.616424",
     "status": "completed"
    },
    "tags": []
   },
   "outputs": [
    {
     "data": {
      "text/html": [
       "<div>\n",
       "<style scoped>\n",
       "    .dataframe tbody tr th:only-of-type {\n",
       "        vertical-align: middle;\n",
       "    }\n",
       "\n",
       "    .dataframe tbody tr th {\n",
       "        vertical-align: top;\n",
       "    }\n",
       "\n",
       "    .dataframe thead th {\n",
       "        text-align: right;\n",
       "    }\n",
       "</style>\n",
       "<table border=\"1\" class=\"dataframe\">\n",
       "  <thead>\n",
       "    <tr style=\"text-align: right;\">\n",
       "      <th></th>\n",
       "      <th>Pclass</th>\n",
       "      <th>Age</th>\n",
       "      <th>SibSp</th>\n",
       "      <th>Parch</th>\n",
       "      <th>Fare</th>\n",
       "      <th>Embarked_Code</th>\n",
       "      <th>Sex_Code</th>\n",
       "      <th>Title_Code</th>\n",
       "      <th>Family Size</th>\n",
       "      <th>IsAlone</th>\n",
       "      <th>AgeBin</th>\n",
       "      <th>FareBin</th>\n",
       "    </tr>\n",
       "  </thead>\n",
       "  <tbody>\n",
       "    <tr>\n",
       "      <th>0</th>\n",
       "      <td>3</td>\n",
       "      <td>34.5</td>\n",
       "      <td>0</td>\n",
       "      <td>0</td>\n",
       "      <td>7.8292</td>\n",
       "      <td>1</td>\n",
       "      <td>1</td>\n",
       "      <td>5</td>\n",
       "      <td>1</td>\n",
       "      <td>1</td>\n",
       "      <td>2</td>\n",
       "      <td>(-0.001, 7.896]</td>\n",
       "    </tr>\n",
       "    <tr>\n",
       "      <th>1</th>\n",
       "      <td>3</td>\n",
       "      <td>47.0</td>\n",
       "      <td>1</td>\n",
       "      <td>0</td>\n",
       "      <td>7.0000</td>\n",
       "      <td>2</td>\n",
       "      <td>0</td>\n",
       "      <td>6</td>\n",
       "      <td>2</td>\n",
       "      <td>0</td>\n",
       "      <td>2</td>\n",
       "      <td>(-0.001, 7.896]</td>\n",
       "    </tr>\n",
       "    <tr>\n",
       "      <th>2</th>\n",
       "      <td>2</td>\n",
       "      <td>62.0</td>\n",
       "      <td>0</td>\n",
       "      <td>0</td>\n",
       "      <td>9.6875</td>\n",
       "      <td>1</td>\n",
       "      <td>1</td>\n",
       "      <td>5</td>\n",
       "      <td>1</td>\n",
       "      <td>1</td>\n",
       "      <td>3</td>\n",
       "      <td>(7.896, 14.454]</td>\n",
       "    </tr>\n",
       "    <tr>\n",
       "      <th>3</th>\n",
       "      <td>3</td>\n",
       "      <td>27.0</td>\n",
       "      <td>0</td>\n",
       "      <td>0</td>\n",
       "      <td>8.6625</td>\n",
       "      <td>2</td>\n",
       "      <td>1</td>\n",
       "      <td>5</td>\n",
       "      <td>1</td>\n",
       "      <td>1</td>\n",
       "      <td>1</td>\n",
       "      <td>(7.896, 14.454]</td>\n",
       "    </tr>\n",
       "    <tr>\n",
       "      <th>4</th>\n",
       "      <td>3</td>\n",
       "      <td>22.0</td>\n",
       "      <td>1</td>\n",
       "      <td>1</td>\n",
       "      <td>12.2875</td>\n",
       "      <td>2</td>\n",
       "      <td>0</td>\n",
       "      <td>6</td>\n",
       "      <td>3</td>\n",
       "      <td>0</td>\n",
       "      <td>1</td>\n",
       "      <td>(7.896, 14.454]</td>\n",
       "    </tr>\n",
       "  </tbody>\n",
       "</table>\n",
       "</div>"
      ],
      "text/plain": [
       "   Pclass   Age  SibSp  Parch     Fare  Embarked_Code  Sex_Code  Title_Code  \\\n",
       "0       3  34.5      0      0   7.8292              1         1           5   \n",
       "1       3  47.0      1      0   7.0000              2         0           6   \n",
       "2       2  62.0      0      0   9.6875              1         1           5   \n",
       "3       3  27.0      0      0   8.6625              2         1           5   \n",
       "4       3  22.0      1      1  12.2875              2         0           6   \n",
       "\n",
       "   Family Size  IsAlone  AgeBin          FareBin  \n",
       "0            1        1       2  (-0.001, 7.896]  \n",
       "1            2        0       2  (-0.001, 7.896]  \n",
       "2            1        1       3  (7.896, 14.454]  \n",
       "3            1        1       1  (7.896, 14.454]  \n",
       "4            3        0       1  (7.896, 14.454]  "
      ]
     },
     "execution_count": 53,
     "metadata": {},
     "output_type": "execute_result"
    }
   ],
   "source": [
    "test_df.head()"
   ]
  },
  {
   "cell_type": "code",
   "execution_count": 54,
   "metadata": {
    "execution": {
     "iopub.execute_input": "2021-01-31T05:11:14.865038Z",
     "iopub.status.busy": "2021-01-31T05:11:14.864379Z",
     "iopub.status.idle": "2021-01-31T05:11:14.867495Z",
     "shell.execute_reply": "2021-01-31T05:11:14.866821Z"
    },
    "papermill": {
     "duration": 0.088122,
     "end_time": "2021-01-31T05:11:14.867633",
     "exception": false,
     "start_time": "2021-01-31T05:11:14.779511",
     "status": "completed"
    },
    "tags": []
   },
   "outputs": [],
   "source": [
    "# converting FareBin categorical into numerical variable\n",
    "for dataset in combine:\n",
    "    dataset['FareBin_Code'] = le.fit_transform(dataset['FareBin']) "
   ]
  },
  {
   "cell_type": "code",
   "execution_count": 55,
   "metadata": {
    "execution": {
     "iopub.execute_input": "2021-01-31T05:11:15.028540Z",
     "iopub.status.busy": "2021-01-31T05:11:15.027859Z",
     "iopub.status.idle": "2021-01-31T05:11:15.032093Z",
     "shell.execute_reply": "2021-01-31T05:11:15.031427Z"
    },
    "papermill": {
     "duration": 0.093195,
     "end_time": "2021-01-31T05:11:15.032272",
     "exception": false,
     "start_time": "2021-01-31T05:11:14.939077",
     "status": "completed"
    },
    "tags": []
   },
   "outputs": [
    {
     "data": {
      "text/html": [
       "<div>\n",
       "<style scoped>\n",
       "    .dataframe tbody tr th:only-of-type {\n",
       "        vertical-align: middle;\n",
       "    }\n",
       "\n",
       "    .dataframe tbody tr th {\n",
       "        vertical-align: top;\n",
       "    }\n",
       "\n",
       "    .dataframe thead th {\n",
       "        text-align: right;\n",
       "    }\n",
       "</style>\n",
       "<table border=\"1\" class=\"dataframe\">\n",
       "  <thead>\n",
       "    <tr style=\"text-align: right;\">\n",
       "      <th></th>\n",
       "      <th>Survived</th>\n",
       "      <th>Pclass</th>\n",
       "      <th>Age</th>\n",
       "      <th>SibSp</th>\n",
       "      <th>Parch</th>\n",
       "      <th>Fare</th>\n",
       "      <th>Embarked_Code</th>\n",
       "      <th>Sex_Code</th>\n",
       "      <th>Title_Code</th>\n",
       "      <th>Family Size</th>\n",
       "      <th>IsAlone</th>\n",
       "      <th>AgeBin</th>\n",
       "      <th>FareBin</th>\n",
       "      <th>FareBin_Code</th>\n",
       "    </tr>\n",
       "  </thead>\n",
       "  <tbody>\n",
       "    <tr>\n",
       "      <th>0</th>\n",
       "      <td>0</td>\n",
       "      <td>3</td>\n",
       "      <td>22.0</td>\n",
       "      <td>1</td>\n",
       "      <td>0</td>\n",
       "      <td>7.2500</td>\n",
       "      <td>2</td>\n",
       "      <td>1</td>\n",
       "      <td>12</td>\n",
       "      <td>2</td>\n",
       "      <td>0</td>\n",
       "      <td>1</td>\n",
       "      <td>(-0.001, 7.91]</td>\n",
       "      <td>0</td>\n",
       "    </tr>\n",
       "    <tr>\n",
       "      <th>1</th>\n",
       "      <td>1</td>\n",
       "      <td>1</td>\n",
       "      <td>38.0</td>\n",
       "      <td>1</td>\n",
       "      <td>0</td>\n",
       "      <td>71.2833</td>\n",
       "      <td>0</td>\n",
       "      <td>0</td>\n",
       "      <td>13</td>\n",
       "      <td>2</td>\n",
       "      <td>0</td>\n",
       "      <td>2</td>\n",
       "      <td>(31.0, 512.329]</td>\n",
       "      <td>3</td>\n",
       "    </tr>\n",
       "    <tr>\n",
       "      <th>2</th>\n",
       "      <td>1</td>\n",
       "      <td>3</td>\n",
       "      <td>26.0</td>\n",
       "      <td>0</td>\n",
       "      <td>0</td>\n",
       "      <td>7.9250</td>\n",
       "      <td>2</td>\n",
       "      <td>0</td>\n",
       "      <td>9</td>\n",
       "      <td>1</td>\n",
       "      <td>1</td>\n",
       "      <td>1</td>\n",
       "      <td>(7.91, 14.454]</td>\n",
       "      <td>1</td>\n",
       "    </tr>\n",
       "    <tr>\n",
       "      <th>3</th>\n",
       "      <td>1</td>\n",
       "      <td>1</td>\n",
       "      <td>35.0</td>\n",
       "      <td>1</td>\n",
       "      <td>0</td>\n",
       "      <td>53.1000</td>\n",
       "      <td>2</td>\n",
       "      <td>0</td>\n",
       "      <td>13</td>\n",
       "      <td>2</td>\n",
       "      <td>0</td>\n",
       "      <td>2</td>\n",
       "      <td>(31.0, 512.329]</td>\n",
       "      <td>3</td>\n",
       "    </tr>\n",
       "    <tr>\n",
       "      <th>4</th>\n",
       "      <td>0</td>\n",
       "      <td>3</td>\n",
       "      <td>35.0</td>\n",
       "      <td>0</td>\n",
       "      <td>0</td>\n",
       "      <td>8.0500</td>\n",
       "      <td>2</td>\n",
       "      <td>1</td>\n",
       "      <td>12</td>\n",
       "      <td>1</td>\n",
       "      <td>1</td>\n",
       "      <td>2</td>\n",
       "      <td>(7.91, 14.454]</td>\n",
       "      <td>1</td>\n",
       "    </tr>\n",
       "  </tbody>\n",
       "</table>\n",
       "</div>"
      ],
      "text/plain": [
       "   Survived  Pclass   Age  SibSp  Parch     Fare  Embarked_Code  Sex_Code  \\\n",
       "0         0       3  22.0      1      0   7.2500              2         1   \n",
       "1         1       1  38.0      1      0  71.2833              0         0   \n",
       "2         1       3  26.0      0      0   7.9250              2         0   \n",
       "3         1       1  35.0      1      0  53.1000              2         0   \n",
       "4         0       3  35.0      0      0   8.0500              2         1   \n",
       "\n",
       "   Title_Code  Family Size  IsAlone  AgeBin          FareBin  FareBin_Code  \n",
       "0          12            2        0       1   (-0.001, 7.91]             0  \n",
       "1          13            2        0       2  (31.0, 512.329]             3  \n",
       "2           9            1        1       1   (7.91, 14.454]             1  \n",
       "3          13            2        0       2  (31.0, 512.329]             3  \n",
       "4          12            1        1       2   (7.91, 14.454]             1  "
      ]
     },
     "execution_count": 55,
     "metadata": {},
     "output_type": "execute_result"
    }
   ],
   "source": [
    "train_df.head()"
   ]
  },
  {
   "cell_type": "code",
   "execution_count": 56,
   "metadata": {
    "execution": {
     "iopub.execute_input": "2021-01-31T05:11:15.194152Z",
     "iopub.status.busy": "2021-01-31T05:11:15.193526Z",
     "iopub.status.idle": "2021-01-31T05:11:15.199836Z",
     "shell.execute_reply": "2021-01-31T05:11:15.199129Z"
    },
    "papermill": {
     "duration": 0.095502,
     "end_time": "2021-01-31T05:11:15.199986",
     "exception": false,
     "start_time": "2021-01-31T05:11:15.104484",
     "status": "completed"
    },
    "tags": []
   },
   "outputs": [
    {
     "data": {
      "text/html": [
       "<div>\n",
       "<style scoped>\n",
       "    .dataframe tbody tr th:only-of-type {\n",
       "        vertical-align: middle;\n",
       "    }\n",
       "\n",
       "    .dataframe tbody tr th {\n",
       "        vertical-align: top;\n",
       "    }\n",
       "\n",
       "    .dataframe thead th {\n",
       "        text-align: right;\n",
       "    }\n",
       "</style>\n",
       "<table border=\"1\" class=\"dataframe\">\n",
       "  <thead>\n",
       "    <tr style=\"text-align: right;\">\n",
       "      <th></th>\n",
       "      <th>Pclass</th>\n",
       "      <th>Age</th>\n",
       "      <th>SibSp</th>\n",
       "      <th>Parch</th>\n",
       "      <th>Fare</th>\n",
       "      <th>Embarked_Code</th>\n",
       "      <th>Sex_Code</th>\n",
       "      <th>Title_Code</th>\n",
       "      <th>Family Size</th>\n",
       "      <th>IsAlone</th>\n",
       "      <th>AgeBin</th>\n",
       "      <th>FareBin</th>\n",
       "      <th>FareBin_Code</th>\n",
       "    </tr>\n",
       "  </thead>\n",
       "  <tbody>\n",
       "    <tr>\n",
       "      <th>0</th>\n",
       "      <td>3</td>\n",
       "      <td>34.5</td>\n",
       "      <td>0</td>\n",
       "      <td>0</td>\n",
       "      <td>7.8292</td>\n",
       "      <td>1</td>\n",
       "      <td>1</td>\n",
       "      <td>5</td>\n",
       "      <td>1</td>\n",
       "      <td>1</td>\n",
       "      <td>2</td>\n",
       "      <td>(-0.001, 7.896]</td>\n",
       "      <td>0</td>\n",
       "    </tr>\n",
       "    <tr>\n",
       "      <th>1</th>\n",
       "      <td>3</td>\n",
       "      <td>47.0</td>\n",
       "      <td>1</td>\n",
       "      <td>0</td>\n",
       "      <td>7.0000</td>\n",
       "      <td>2</td>\n",
       "      <td>0</td>\n",
       "      <td>6</td>\n",
       "      <td>2</td>\n",
       "      <td>0</td>\n",
       "      <td>2</td>\n",
       "      <td>(-0.001, 7.896]</td>\n",
       "      <td>0</td>\n",
       "    </tr>\n",
       "    <tr>\n",
       "      <th>2</th>\n",
       "      <td>2</td>\n",
       "      <td>62.0</td>\n",
       "      <td>0</td>\n",
       "      <td>0</td>\n",
       "      <td>9.6875</td>\n",
       "      <td>1</td>\n",
       "      <td>1</td>\n",
       "      <td>5</td>\n",
       "      <td>1</td>\n",
       "      <td>1</td>\n",
       "      <td>3</td>\n",
       "      <td>(7.896, 14.454]</td>\n",
       "      <td>1</td>\n",
       "    </tr>\n",
       "    <tr>\n",
       "      <th>3</th>\n",
       "      <td>3</td>\n",
       "      <td>27.0</td>\n",
       "      <td>0</td>\n",
       "      <td>0</td>\n",
       "      <td>8.6625</td>\n",
       "      <td>2</td>\n",
       "      <td>1</td>\n",
       "      <td>5</td>\n",
       "      <td>1</td>\n",
       "      <td>1</td>\n",
       "      <td>1</td>\n",
       "      <td>(7.896, 14.454]</td>\n",
       "      <td>1</td>\n",
       "    </tr>\n",
       "    <tr>\n",
       "      <th>4</th>\n",
       "      <td>3</td>\n",
       "      <td>22.0</td>\n",
       "      <td>1</td>\n",
       "      <td>1</td>\n",
       "      <td>12.2875</td>\n",
       "      <td>2</td>\n",
       "      <td>0</td>\n",
       "      <td>6</td>\n",
       "      <td>3</td>\n",
       "      <td>0</td>\n",
       "      <td>1</td>\n",
       "      <td>(7.896, 14.454]</td>\n",
       "      <td>1</td>\n",
       "    </tr>\n",
       "  </tbody>\n",
       "</table>\n",
       "</div>"
      ],
      "text/plain": [
       "   Pclass   Age  SibSp  Parch     Fare  Embarked_Code  Sex_Code  Title_Code  \\\n",
       "0       3  34.5      0      0   7.8292              1         1           5   \n",
       "1       3  47.0      1      0   7.0000              2         0           6   \n",
       "2       2  62.0      0      0   9.6875              1         1           5   \n",
       "3       3  27.0      0      0   8.6625              2         1           5   \n",
       "4       3  22.0      1      1  12.2875              2         0           6   \n",
       "\n",
       "   Family Size  IsAlone  AgeBin          FareBin  FareBin_Code  \n",
       "0            1        1       2  (-0.001, 7.896]             0  \n",
       "1            2        0       2  (-0.001, 7.896]             0  \n",
       "2            1        1       3  (7.896, 14.454]             1  \n",
       "3            1        1       1  (7.896, 14.454]             1  \n",
       "4            3        0       1  (7.896, 14.454]             1  "
      ]
     },
     "execution_count": 56,
     "metadata": {},
     "output_type": "execute_result"
    }
   ],
   "source": [
    "test_df.head()"
   ]
  },
  {
   "cell_type": "markdown",
   "metadata": {},
   "source": [
    "Let's drop all our columns which are not needed now."
   ]
  },
  {
   "cell_type": "code",
   "execution_count": 57,
   "metadata": {},
   "outputs": [],
   "source": [
    "for dataset in combine:\n",
    "    dataset.drop(['SibSp', 'Parch', 'Age', 'Fare', 'Family Size', 'FareBin'], axis=1, inplace=True)"
   ]
  },
  {
   "cell_type": "code",
   "execution_count": 58,
   "metadata": {
    "scrolled": true
   },
   "outputs": [
    {
     "data": {
      "text/plain": [
       "(Index(['Survived', 'Pclass', 'Embarked_Code', 'Sex_Code', 'Title_Code',\n",
       "        'IsAlone', 'AgeBin', 'FareBin_Code'],\n",
       "       dtype='object'),\n",
       " Index(['Pclass', 'Embarked_Code', 'Sex_Code', 'Title_Code', 'IsAlone',\n",
       "        'AgeBin', 'FareBin_Code'],\n",
       "       dtype='object'))"
      ]
     },
     "execution_count": 58,
     "metadata": {},
     "output_type": "execute_result"
    }
   ],
   "source": [
    "train_df.columns, test_df.columns"
   ]
  },
  {
   "cell_type": "markdown",
   "metadata": {},
   "source": [
    "### Visualizing our data "
   ]
  },
  {
   "cell_type": "markdown",
   "metadata": {},
   "source": [
    "Let's look at the correlation once again."
   ]
  },
  {
   "cell_type": "code",
   "execution_count": 59,
   "metadata": {
    "execution": {
     "iopub.execute_input": "2021-01-31T05:11:16.052672Z",
     "iopub.status.busy": "2021-01-31T05:11:16.050947Z",
     "iopub.status.idle": "2021-01-31T05:11:17.496732Z",
     "shell.execute_reply": "2021-01-31T05:11:17.496093Z"
    },
    "papermill": {
     "duration": 1.545005,
     "end_time": "2021-01-31T05:11:17.496877",
     "exception": false,
     "start_time": "2021-01-31T05:11:15.951872",
     "status": "completed"
    },
    "scrolled": true,
    "tags": []
   },
   "outputs": [
    {
     "data": {
      "text/html": [
       "<div>\n",
       "<style scoped>\n",
       "    .dataframe tbody tr th:only-of-type {\n",
       "        vertical-align: middle;\n",
       "    }\n",
       "\n",
       "    .dataframe tbody tr th {\n",
       "        vertical-align: top;\n",
       "    }\n",
       "\n",
       "    .dataframe thead th {\n",
       "        text-align: right;\n",
       "    }\n",
       "</style>\n",
       "<table border=\"1\" class=\"dataframe\">\n",
       "  <thead>\n",
       "    <tr style=\"text-align: right;\">\n",
       "      <th></th>\n",
       "      <th>Survived</th>\n",
       "      <th>Pclass</th>\n",
       "      <th>Embarked_Code</th>\n",
       "      <th>Sex_Code</th>\n",
       "      <th>Title_Code</th>\n",
       "      <th>IsAlone</th>\n",
       "      <th>AgeBin</th>\n",
       "      <th>FareBin_Code</th>\n",
       "    </tr>\n",
       "  </thead>\n",
       "  <tbody>\n",
       "    <tr>\n",
       "      <th>Survived</th>\n",
       "      <td>1.000000</td>\n",
       "      <td>-0.338481</td>\n",
       "      <td>-0.167675</td>\n",
       "      <td>-0.543351</td>\n",
       "      <td>-0.201345</td>\n",
       "      <td>-0.203367</td>\n",
       "      <td>-0.043800</td>\n",
       "      <td>0.299357</td>\n",
       "    </tr>\n",
       "    <tr>\n",
       "      <th>Pclass</th>\n",
       "      <td>-0.338481</td>\n",
       "      <td>1.000000</td>\n",
       "      <td>0.162098</td>\n",
       "      <td>0.131900</td>\n",
       "      <td>0.045541</td>\n",
       "      <td>0.135207</td>\n",
       "      <td>-0.358769</td>\n",
       "      <td>-0.634271</td>\n",
       "    </tr>\n",
       "    <tr>\n",
       "      <th>Embarked_Code</th>\n",
       "      <td>-0.167675</td>\n",
       "      <td>0.162098</td>\n",
       "      <td>1.000000</td>\n",
       "      <td>0.108262</td>\n",
       "      <td>0.066462</td>\n",
       "      <td>0.063532</td>\n",
       "      <td>-0.003402</td>\n",
       "      <td>-0.098593</td>\n",
       "    </tr>\n",
       "    <tr>\n",
       "      <th>Sex_Code</th>\n",
       "      <td>-0.543351</td>\n",
       "      <td>0.131900</td>\n",
       "      <td>0.108262</td>\n",
       "      <td>1.000000</td>\n",
       "      <td>0.256407</td>\n",
       "      <td>0.303646</td>\n",
       "      <td>0.070220</td>\n",
       "      <td>-0.243613</td>\n",
       "    </tr>\n",
       "    <tr>\n",
       "      <th>Title_Code</th>\n",
       "      <td>-0.201345</td>\n",
       "      <td>0.045541</td>\n",
       "      <td>0.066462</td>\n",
       "      <td>0.256407</td>\n",
       "      <td>1.000000</td>\n",
       "      <td>0.060627</td>\n",
       "      <td>0.230381</td>\n",
       "      <td>-0.109890</td>\n",
       "    </tr>\n",
       "    <tr>\n",
       "      <th>IsAlone</th>\n",
       "      <td>-0.203367</td>\n",
       "      <td>0.135207</td>\n",
       "      <td>0.063532</td>\n",
       "      <td>0.303646</td>\n",
       "      <td>0.060627</td>\n",
       "      <td>1.000000</td>\n",
       "      <td>0.123981</td>\n",
       "      <td>-0.560279</td>\n",
       "    </tr>\n",
       "    <tr>\n",
       "      <th>AgeBin</th>\n",
       "      <td>-0.043800</td>\n",
       "      <td>-0.358769</td>\n",
       "      <td>-0.003402</td>\n",
       "      <td>0.070220</td>\n",
       "      <td>0.230381</td>\n",
       "      <td>0.123981</td>\n",
       "      <td>1.000000</td>\n",
       "      <td>0.100443</td>\n",
       "    </tr>\n",
       "    <tr>\n",
       "      <th>FareBin_Code</th>\n",
       "      <td>0.299357</td>\n",
       "      <td>-0.634271</td>\n",
       "      <td>-0.098593</td>\n",
       "      <td>-0.243613</td>\n",
       "      <td>-0.109890</td>\n",
       "      <td>-0.560279</td>\n",
       "      <td>0.100443</td>\n",
       "      <td>1.000000</td>\n",
       "    </tr>\n",
       "  </tbody>\n",
       "</table>\n",
       "</div>"
      ],
      "text/plain": [
       "               Survived    Pclass  Embarked_Code  Sex_Code  Title_Code  \\\n",
       "Survived       1.000000 -0.338481      -0.167675 -0.543351   -0.201345   \n",
       "Pclass        -0.338481  1.000000       0.162098  0.131900    0.045541   \n",
       "Embarked_Code -0.167675  0.162098       1.000000  0.108262    0.066462   \n",
       "Sex_Code      -0.543351  0.131900       0.108262  1.000000    0.256407   \n",
       "Title_Code    -0.201345  0.045541       0.066462  0.256407    1.000000   \n",
       "IsAlone       -0.203367  0.135207       0.063532  0.303646    0.060627   \n",
       "AgeBin        -0.043800 -0.358769      -0.003402  0.070220    0.230381   \n",
       "FareBin_Code   0.299357 -0.634271      -0.098593 -0.243613   -0.109890   \n",
       "\n",
       "                IsAlone    AgeBin  FareBin_Code  \n",
       "Survived      -0.203367 -0.043800      0.299357  \n",
       "Pclass         0.135207 -0.358769     -0.634271  \n",
       "Embarked_Code  0.063532 -0.003402     -0.098593  \n",
       "Sex_Code       0.303646  0.070220     -0.243613  \n",
       "Title_Code     0.060627  0.230381     -0.109890  \n",
       "IsAlone        1.000000  0.123981     -0.560279  \n",
       "AgeBin         0.123981  1.000000      0.100443  \n",
       "FareBin_Code  -0.560279  0.100443      1.000000  "
      ]
     },
     "execution_count": 59,
     "metadata": {},
     "output_type": "execute_result"
    }
   ],
   "source": [
    "train_df.corr()"
   ]
  },
  {
   "cell_type": "markdown",
   "metadata": {},
   "source": [
    "Now if we observe the correlation with **Survived** now we can see that all our columns except **AgeBin** have a significant correlation. So let's drop AgeBin and go ahead with answering the questions we posed earlier."
   ]
  },
  {
   "cell_type": "code",
   "execution_count": 60,
   "metadata": {
    "execution": {
     "iopub.execute_input": "2021-01-31T05:11:17.825951Z",
     "iopub.status.busy": "2021-01-31T05:11:17.825300Z",
     "iopub.status.idle": "2021-01-31T05:11:17.833120Z",
     "shell.execute_reply": "2021-01-31T05:11:17.832569Z"
    },
    "papermill": {
     "duration": 0.091268,
     "end_time": "2021-01-31T05:11:17.833276",
     "exception": false,
     "start_time": "2021-01-31T05:11:17.742008",
     "status": "completed"
    },
    "tags": []
   },
   "outputs": [],
   "source": [
    "for dataset in combine:\n",
    "    dataset.drop(['AgeBin'], axis=1, inplace=True)"
   ]
  },
  {
   "cell_type": "code",
   "execution_count": 61,
   "metadata": {
    "execution": {
     "iopub.execute_input": "2021-01-31T05:11:17.997497Z",
     "iopub.status.busy": "2021-01-31T05:11:17.996459Z",
     "iopub.status.idle": "2021-01-31T05:11:18.000506Z",
     "shell.execute_reply": "2021-01-31T05:11:18.001018Z"
    },
    "papermill": {
     "duration": 0.089548,
     "end_time": "2021-01-31T05:11:18.001206",
     "exception": false,
     "start_time": "2021-01-31T05:11:17.911658",
     "status": "completed"
    },
    "scrolled": false,
    "tags": []
   },
   "outputs": [
    {
     "data": {
      "text/plain": [
       "(Index(['Survived', 'Pclass', 'Embarked_Code', 'Sex_Code', 'Title_Code',\n",
       "        'IsAlone', 'FareBin_Code'],\n",
       "       dtype='object'),\n",
       " Index(['Pclass', 'Embarked_Code', 'Sex_Code', 'Title_Code', 'IsAlone',\n",
       "        'FareBin_Code'],\n",
       "       dtype='object'))"
      ]
     },
     "execution_count": 61,
     "metadata": {},
     "output_type": "execute_result"
    }
   ],
   "source": [
    "train_df.columns, test_df.columns"
   ]
  },
  {
   "cell_type": "markdown",
   "metadata": {},
   "source": [
    "### Answering our questions"
   ]
  },
  {
   "cell_type": "code",
   "execution_count": 62,
   "metadata": {},
   "outputs": [],
   "source": [
    "import seaborn as sns\n",
    "import matplotlib.pyplot as plt\n",
    "\n",
    "def visualize_correlation(column_name, train_df):\n",
    "    \"\"\"\n",
    "        This method takes a column name and dataset as an input.\n",
    "        It helps us visualize the correlation between the given column and the 'Survived' column.\n",
    "        The output is the correlation table and a bar chart for better visualization.\n",
    "    \"\"\"\n",
    "    train_data = train_df[[column_name, 'Survived']].groupby([column_name]).mean().sort_values(['Survived'], ascending=False).reset_index()\n",
    "    print(train_data)\n",
    "    sns.set_theme(style=\"whitegrid\")\n",
    "    sns.barplot(x=column_name, y=\"Survived\", data=train_data)\n",
    "    plt.show()"
   ]
  },
  {
   "cell_type": "markdown",
   "metadata": {},
   "source": [
    "1. **In the movie it was shown that women and children were first sent on life boats when the Titanic sunk. I want to confirm whether the data gave the same outcome and that there was a better chance of survival if you were a female or had a child.**"
   ]
  },
  {
   "cell_type": "code",
   "execution_count": 63,
   "metadata": {},
   "outputs": [
    {
     "name": "stdout",
     "output_type": "stream",
     "text": [
      "      Sex  Survived\n",
      "0  female  0.742038\n",
      "1    male  0.188908\n"
     ]
    },
    {
     "data": {
      "image/png": "[encoded data removed]",
      "text/plain": [
       "<Figure size 432x288 with 1 Axes>"
      ]
     },
     "metadata": {},
     "output_type": "display_data"
    }
   ],
   "source": [
    "visualize_correlation(\"Sex\", train_df_copy)"
   ]
  },
  {
   "cell_type": "markdown",
   "metadata": {},
   "source": [
    "We can see that **female passengers had a 74% chance of survival** and **male passengers had a 18% chance of survival**. So the data supports what they had shown in the movie."
   ]
  },
  {
   "cell_type": "code",
   "execution_count": 64,
   "metadata": {},
   "outputs": [],
   "source": [
    "train_df_copy['IsChild'] = train_df_copy['Age'].apply(lambda x: 1 if x < 16 else 0)"
   ]
  },
  {
   "cell_type": "code",
   "execution_count": 65,
   "metadata": {},
   "outputs": [
    {
     "data": {
      "text/html": [
       "<div>\n",
       "<style scoped>\n",
       "    .dataframe tbody tr th:only-of-type {\n",
       "        vertical-align: middle;\n",
       "    }\n",
       "\n",
       "    .dataframe tbody tr th {\n",
       "        vertical-align: top;\n",
       "    }\n",
       "\n",
       "    .dataframe thead th {\n",
       "        text-align: right;\n",
       "    }\n",
       "</style>\n",
       "<table border=\"1\" class=\"dataframe\">\n",
       "  <thead>\n",
       "    <tr style=\"text-align: right;\">\n",
       "      <th></th>\n",
       "      <th>IsChild</th>\n",
       "      <th>Age</th>\n",
       "    </tr>\n",
       "  </thead>\n",
       "  <tbody>\n",
       "    <tr>\n",
       "      <th>0</th>\n",
       "      <td>0</td>\n",
       "      <td>22.0</td>\n",
       "    </tr>\n",
       "    <tr>\n",
       "      <th>1</th>\n",
       "      <td>0</td>\n",
       "      <td>38.0</td>\n",
       "    </tr>\n",
       "    <tr>\n",
       "      <th>2</th>\n",
       "      <td>0</td>\n",
       "      <td>26.0</td>\n",
       "    </tr>\n",
       "    <tr>\n",
       "      <th>3</th>\n",
       "      <td>0</td>\n",
       "      <td>35.0</td>\n",
       "    </tr>\n",
       "    <tr>\n",
       "      <th>4</th>\n",
       "      <td>0</td>\n",
       "      <td>35.0</td>\n",
       "    </tr>\n",
       "    <tr>\n",
       "      <th>5</th>\n",
       "      <td>0</td>\n",
       "      <td>28.0</td>\n",
       "    </tr>\n",
       "    <tr>\n",
       "      <th>6</th>\n",
       "      <td>0</td>\n",
       "      <td>54.0</td>\n",
       "    </tr>\n",
       "    <tr>\n",
       "      <th>7</th>\n",
       "      <td>1</td>\n",
       "      <td>2.0</td>\n",
       "    </tr>\n",
       "    <tr>\n",
       "      <th>8</th>\n",
       "      <td>0</td>\n",
       "      <td>27.0</td>\n",
       "    </tr>\n",
       "    <tr>\n",
       "      <th>9</th>\n",
       "      <td>1</td>\n",
       "      <td>14.0</td>\n",
       "    </tr>\n",
       "  </tbody>\n",
       "</table>\n",
       "</div>"
      ],
      "text/plain": [
       "   IsChild   Age\n",
       "0        0  22.0\n",
       "1        0  38.0\n",
       "2        0  26.0\n",
       "3        0  35.0\n",
       "4        0  35.0\n",
       "5        0  28.0\n",
       "6        0  54.0\n",
       "7        1   2.0\n",
       "8        0  27.0\n",
       "9        1  14.0"
      ]
     },
     "execution_count": 65,
     "metadata": {},
     "output_type": "execute_result"
    }
   ],
   "source": [
    "train_df_copy[['IsChild', 'Age']].head(10)"
   ]
  },
  {
   "cell_type": "code",
   "execution_count": 66,
   "metadata": {},
   "outputs": [
    {
     "name": "stdout",
     "output_type": "stream",
     "text": [
      "   IsChild  Survived\n",
      "0        1  0.590361\n",
      "1        0  0.362624\n"
     ]
    },
    {
     "data": {
      "image/png": "[encoded data removed]",
      "text/plain": [
       "<Figure size 432x288 with 1 Axes>"
      ]
     },
     "metadata": {},
     "output_type": "display_data"
    }
   ],
   "source": [
    "visualize_correlation(\"IsChild\", train_df_copy)"
   ]
  },
  {
   "cell_type": "markdown",
   "metadata": {},
   "source": [
    "We can see that **children had a 59% chance of survival** which supports what they had shown in the movie."
   ]
  },
  {
   "cell_type": "markdown",
   "metadata": {},
   "source": [
    "2. **Similar to the above one, whether there was a better chance of survival if you were from the first class?**"
   ]
  },
  {
   "cell_type": "code",
   "execution_count": 67,
   "metadata": {},
   "outputs": [
    {
     "name": "stdout",
     "output_type": "stream",
     "text": [
      "   Pclass  Survived\n",
      "0       1  0.629630\n",
      "1       2  0.472826\n",
      "2       3  0.242363\n"
     ]
    },
    {
     "data": {
      "image/png": "[encoded data removed]",
      "text/plain": [
       "<Figure size 432x288 with 1 Axes>"
      ]
     },
     "metadata": {},
     "output_type": "display_data"
    }
   ],
   "source": [
    "visualize_correlation(\"Pclass\", train_df_copy)"
   ]
  },
  {
   "cell_type": "markdown",
   "metadata": {},
   "source": [
    "We can see that the people from **1st class had a 63% chance** to survive and people from **3rd class had a 24% chance** of survival.\n",
    "\n",
    "Let's visualize to see this clearer."
   ]
  },
  {
   "cell_type": "markdown",
   "metadata": {},
   "source": [
    "3. **What factors contributed most to the survival of passengers on the Titanic?**"
   ]
  },
  {
   "cell_type": "code",
   "execution_count": 68,
   "metadata": {
    "scrolled": true
   },
   "outputs": [
    {
     "data": {
      "text/plain": [
       "<AxesSubplot:>"
      ]
     },
     "execution_count": 68,
     "metadata": {},
     "output_type": "execute_result"
    },
    {
     "data": {
      "image/png": "[encoded data removed]",
      "text/plain": [
       "<Figure size 936x936 with 2 Axes>"
      ]
     },
     "metadata": {},
     "output_type": "display_data"
    }
   ],
   "source": [
    "colormap = plt.cm.viridis\n",
    "plt.figure(figsize=(13,13))\n",
    "plt.legend('Pearson Coefficient for Data')\n",
    "sns.heatmap(train_df.corr(), cmap=colormap,annot=True, square=True,linecolor='white')"
   ]
  },
  {
   "cell_type": "markdown",
   "metadata": {},
   "source": [
    "If we look at the **Survived** row for correlation, we can comment that the top 3 factors contributing to the survival of a passenger on the Titanic are:\n",
    "1. **Sex_Code (gender of the person)**\n",
    "2. **Pclass**\n",
    "3. **FareBin_Code**\n",
    "\n",
    "Followed by:\n",
    "\n",
    "4. **Title_Code**\n",
    "5. **IsAlone**\n",
    "6. **Embarked_Code**"
   ]
  },
  {
   "cell_type": "markdown",
   "metadata": {},
   "source": [
    "4. **Given a new passenger on the Titanic, with what certainty can my model predict whether the passenger can survive or not?**"
   ]
  },
  {
   "cell_type": "code",
   "execution_count": 69,
   "metadata": {
    "execution": {
     "iopub.execute_input": "2021-01-31T05:11:18.329872Z",
     "iopub.status.busy": "2021-01-31T05:11:18.329244Z",
     "iopub.status.idle": "2021-01-31T05:11:18.336269Z",
     "shell.execute_reply": "2021-01-31T05:11:18.336748Z"
    },
    "papermill": {
     "duration": 0.089499,
     "end_time": "2021-01-31T05:11:18.336912",
     "exception": false,
     "start_time": "2021-01-31T05:11:18.247413",
     "status": "completed"
    },
    "tags": []
   },
   "outputs": [
    {
     "data": {
      "text/plain": [
       "((891,), (891, 6), (418, 6), (418,))"
      ]
     },
     "execution_count": 69,
     "metadata": {},
     "output_type": "execute_result"
    }
   ],
   "source": [
    "# preparing our training and test data\n",
    "\n",
    "Y_train = train_df['Survived']\n",
    "X_train = train_df.drop(['Survived'], axis=1)\n",
    "X_test = test_df.copy()\n",
    "Y_test = pd.read_csv(\"ground_truth.csv\")['Survived']\n",
    "Y_train.shape, X_train.shape, X_test.shape, Y_test.shape"
   ]
  },
  {
   "cell_type": "markdown",
   "metadata": {},
   "source": [
    "We will be doing a very simple analysis for different ML models and calculate the score measuring the accuracy of the model against the training data and after prediction against the test data."
   ]
  },
  {
   "cell_type": "code",
   "execution_count": 70,
   "metadata": {
    "execution": {
     "iopub.execute_input": "2021-01-31T05:11:18.503968Z",
     "iopub.status.busy": "2021-01-31T05:11:18.503345Z",
     "iopub.status.idle": "2021-01-31T05:11:18.790009Z",
     "shell.execute_reply": "2021-01-31T05:11:18.789457Z"
    },
    "papermill": {
     "duration": 0.373496,
     "end_time": "2021-01-31T05:11:18.790193",
     "exception": false,
     "start_time": "2021-01-31T05:11:18.416697",
     "status": "completed"
    },
    "tags": []
   },
   "outputs": [],
   "source": [
    "from sklearn.linear_model import LogisticRegression, Perceptron, SGDClassifier\n",
    "from sklearn.tree import DecisionTreeClassifier\n",
    "from sklearn.ensemble import RandomForestClassifier\n",
    "from sklearn.neighbors import KNeighborsClassifier\n",
    "from sklearn.naive_bayes import GaussianNB\n",
    "from sklearn.svm import SVC, LinearSVC\n",
    "from sklearn.metrics import accuracy_score"
   ]
  },
  {
   "cell_type": "code",
   "execution_count": 71,
   "metadata": {
    "execution": {
     "iopub.execute_input": "2021-01-31T05:11:18.959587Z",
     "iopub.status.busy": "2021-01-31T05:11:18.958805Z",
     "iopub.status.idle": "2021-01-31T05:11:18.961012Z",
     "shell.execute_reply": "2021-01-31T05:11:18.961524Z"
    },
    "papermill": {
     "duration": 0.089816,
     "end_time": "2021-01-31T05:11:18.961723",
     "exception": false,
     "start_time": "2021-01-31T05:11:18.871907",
     "status": "completed"
    },
    "tags": []
   },
   "outputs": [],
   "source": [
    "def model_score(model):\n",
    "    \"\"\"\n",
    "        This method takes the model as an input.\n",
    "        It fits the training data on the model and then makes a prediction for test data using predict method.\n",
    "        The final output is the training and testing data accuracy for each model.\n",
    "    \"\"\"\n",
    "    \n",
    "    model.fit(X_train, Y_train)\n",
    "    Y_pred = model.predict(X_test)\n",
    "    \n",
    "    print(\"Training Data Prediction Accuracy: \", model.score(X_train, Y_train))\n",
    "    print(\"Testing Data Prediction Accuracy: \", accuracy_score(Y_test, Y_pred))"
   ]
  },
  {
   "cell_type": "code",
   "execution_count": 72,
   "metadata": {
    "execution": {
     "iopub.execute_input": "2021-01-31T05:11:19.127686Z",
     "iopub.status.busy": "2021-01-31T05:11:19.126988Z",
     "iopub.status.idle": "2021-01-31T05:11:19.165136Z",
     "shell.execute_reply": "2021-01-31T05:11:19.165623Z"
    },
    "papermill": {
     "duration": 0.122955,
     "end_time": "2021-01-31T05:11:19.165805",
     "exception": false,
     "start_time": "2021-01-31T05:11:19.042850",
     "status": "completed"
    },
    "scrolled": true,
    "tags": []
   },
   "outputs": [
    {
     "name": "stdout",
     "output_type": "stream",
     "text": [
      "Training Data Prediction Accuracy:  0.7800224466891134\n",
      "Testing Data Prediction Accuracy:  0.7057416267942583\n"
     ]
    }
   ],
   "source": [
    "model_score(LogisticRegression())"
   ]
  },
  {
   "cell_type": "code",
   "execution_count": 73,
   "metadata": {
    "execution": {
     "iopub.execute_input": "2021-01-31T05:11:19.333115Z",
     "iopub.status.busy": "2021-01-31T05:11:19.332456Z",
     "iopub.status.idle": "2021-01-31T05:11:19.347780Z",
     "shell.execute_reply": "2021-01-31T05:11:19.347054Z"
    },
    "papermill": {
     "duration": 0.101804,
     "end_time": "2021-01-31T05:11:19.347933",
     "exception": false,
     "start_time": "2021-01-31T05:11:19.246129",
     "status": "completed"
    },
    "tags": []
   },
   "outputs": [
    {
     "name": "stdout",
     "output_type": "stream",
     "text": [
      "Training Data Prediction Accuracy:  0.6318742985409652\n",
      "Testing Data Prediction Accuracy:  0.6985645933014354\n"
     ]
    }
   ],
   "source": [
    "model_score(Perceptron())"
   ]
  },
  {
   "cell_type": "code",
   "execution_count": 74,
   "metadata": {
    "execution": {
     "iopub.execute_input": "2021-01-31T05:11:19.532514Z",
     "iopub.status.busy": "2021-01-31T05:11:19.531372Z",
     "iopub.status.idle": "2021-01-31T05:11:19.544203Z",
     "shell.execute_reply": "2021-01-31T05:11:19.544741Z"
    },
    "papermill": {
     "duration": 0.114587,
     "end_time": "2021-01-31T05:11:19.544914",
     "exception": false,
     "start_time": "2021-01-31T05:11:19.430327",
     "status": "completed"
    },
    "tags": []
   },
   "outputs": [
    {
     "name": "stdout",
     "output_type": "stream",
     "text": [
      "Training Data Prediction Accuracy:  0.7777777777777778\n",
      "Testing Data Prediction Accuracy:  0.6148325358851675\n"
     ]
    }
   ],
   "source": [
    "model_score(SGDClassifier())"
   ]
  },
  {
   "cell_type": "code",
   "execution_count": 75,
   "metadata": {
    "execution": {
     "iopub.execute_input": "2021-01-31T05:11:19.722690Z",
     "iopub.status.busy": "2021-01-31T05:11:19.722018Z",
     "iopub.status.idle": "2021-01-31T05:11:19.736062Z",
     "shell.execute_reply": "2021-01-31T05:11:19.735538Z"
    },
    "papermill": {
     "duration": 0.099866,
     "end_time": "2021-01-31T05:11:19.736242",
     "exception": false,
     "start_time": "2021-01-31T05:11:19.636376",
     "status": "completed"
    },
    "tags": []
   },
   "outputs": [
    {
     "name": "stdout",
     "output_type": "stream",
     "text": [
      "Training Data Prediction Accuracy:  0.8473625140291807\n",
      "Testing Data Prediction Accuracy:  0.49760765550239233\n"
     ]
    }
   ],
   "source": [
    "model_score(DecisionTreeClassifier())"
   ]
  },
  {
   "cell_type": "code",
   "execution_count": 76,
   "metadata": {
    "execution": {
     "iopub.execute_input": "2021-01-31T05:11:19.911796Z",
     "iopub.status.busy": "2021-01-31T05:11:19.911075Z",
     "iopub.status.idle": "2021-01-31T05:11:20.168215Z",
     "shell.execute_reply": "2021-01-31T05:11:20.169045Z"
    },
    "papermill": {
     "duration": 0.34895,
     "end_time": "2021-01-31T05:11:20.169290",
     "exception": false,
     "start_time": "2021-01-31T05:11:19.820340",
     "status": "completed"
    },
    "tags": []
   },
   "outputs": [
    {
     "name": "stdout",
     "output_type": "stream",
     "text": [
      "Training Data Prediction Accuracy:  0.8473625140291807\n",
      "Testing Data Prediction Accuracy:  0.7105263157894737\n"
     ]
    }
   ],
   "source": [
    "model_score(RandomForestClassifier())"
   ]
  },
  {
   "cell_type": "code",
   "execution_count": 77,
   "metadata": {
    "execution": {
     "iopub.execute_input": "2021-01-31T05:11:20.343381Z",
     "iopub.status.busy": "2021-01-31T05:11:20.342693Z",
     "iopub.status.idle": "2021-01-31T05:11:20.408452Z",
     "shell.execute_reply": "2021-01-31T05:11:20.407756Z"
    },
    "papermill": {
     "duration": 0.156054,
     "end_time": "2021-01-31T05:11:20.408596",
     "exception": false,
     "start_time": "2021-01-31T05:11:20.252542",
     "status": "completed"
    },
    "tags": []
   },
   "outputs": [
    {
     "name": "stdout",
     "output_type": "stream",
     "text": [
      "Training Data Prediction Accuracy:  0.8305274971941639\n",
      "Testing Data Prediction Accuracy:  0.6842105263157895\n"
     ]
    }
   ],
   "source": [
    "model_score(KNeighborsClassifier())"
   ]
  },
  {
   "cell_type": "code",
   "execution_count": 78,
   "metadata": {
    "execution": {
     "iopub.execute_input": "2021-01-31T05:11:20.582386Z",
     "iopub.status.busy": "2021-01-31T05:11:20.581699Z",
     "iopub.status.idle": "2021-01-31T05:11:20.591695Z",
     "shell.execute_reply": "2021-01-31T05:11:20.592362Z"
    },
    "papermill": {
     "duration": 0.100837,
     "end_time": "2021-01-31T05:11:20.592604",
     "exception": false,
     "start_time": "2021-01-31T05:11:20.491767",
     "status": "completed"
    },
    "tags": []
   },
   "outputs": [
    {
     "name": "stdout",
     "output_type": "stream",
     "text": [
      "Training Data Prediction Accuracy:  0.7744107744107744\n",
      "Testing Data Prediction Accuracy:  0.3803827751196172\n"
     ]
    }
   ],
   "source": [
    "model_score(GaussianNB())"
   ]
  },
  {
   "cell_type": "code",
   "execution_count": 79,
   "metadata": {
    "execution": {
     "iopub.execute_input": "2021-01-31T05:11:20.768105Z",
     "iopub.status.busy": "2021-01-31T05:11:20.767459Z",
     "iopub.status.idle": "2021-01-31T05:11:20.822715Z",
     "shell.execute_reply": "2021-01-31T05:11:20.822151Z"
    },
    "papermill": {
     "duration": 0.146247,
     "end_time": "2021-01-31T05:11:20.822888",
     "exception": false,
     "start_time": "2021-01-31T05:11:20.676641",
     "status": "completed"
    },
    "tags": []
   },
   "outputs": [
    {
     "name": "stdout",
     "output_type": "stream",
     "text": [
      "Training Data Prediction Accuracy:  0.7811447811447811\n",
      "Testing Data Prediction Accuracy:  0.3875598086124402\n"
     ]
    }
   ],
   "source": [
    "model_score(SVC())"
   ]
  },
  {
   "cell_type": "code",
   "execution_count": 80,
   "metadata": {
    "execution": {
     "iopub.execute_input": "2021-01-31T05:11:21.000525Z",
     "iopub.status.busy": "2021-01-31T05:11:20.999832Z",
     "iopub.status.idle": "2021-01-31T05:11:21.049911Z",
     "shell.execute_reply": "2021-01-31T05:11:21.050792Z"
    },
    "papermill": {
     "duration": 0.142634,
     "end_time": "2021-01-31T05:11:21.051056",
     "exception": false,
     "start_time": "2021-01-31T05:11:20.908422",
     "status": "completed"
    },
    "tags": []
   },
   "outputs": [
    {
     "name": "stdout",
     "output_type": "stream",
     "text": [
      "Training Data Prediction Accuracy:  0.7833894500561167\n",
      "Testing Data Prediction Accuracy:  0.7535885167464115\n"
     ]
    },
    {
     "name": "stderr",
     "output_type": "stream",
     "text": [
      "/usr/local/lib/python3.9/site-packages/sklearn/svm/_base.py:985: ConvergenceWarning: Liblinear failed to converge, increase the number of iterations.\n",
      "  warnings.warn(\"Liblinear failed to converge, increase \"\n"
     ]
    }
   ],
   "source": [
    "model_score(LinearSVC())"
   ]
  },
  {
   "cell_type": "markdown",
   "metadata": {},
   "source": [
    "We can see for most models, overfitting has happened on the training data. This is because their training accuracy is more than their testing accuracy. \n",
    "From the above models, **LinearSVC** has the best balance of Training and Testing Accuracy.\n",
    "Please note, this is the most basic analysis without any hyperparameter tuning."
   ]
  },
  {
   "cell_type": "markdown",
   "metadata": {},
   "source": [
    "## Thank You"
   ]
  }
 ],
 "metadata": {
  "kernelspec": {
   "display_name": "Python 3",
   "language": "python",
   "name": "python3"
  },
  "language_info": {
   "codemirror_mode": {
    "name": "ipython",
    "version": 3
   },
   "file_extension": ".py",
   "mimetype": "text/x-python",
   "name": "python",
   "nbconvert_exporter": "python",
   "pygments_lexer": "ipython3",
   "version": "3.9.0"
  },
  "papermill": {
   "default_parameters": {},
   "duration": 22.105597,
   "end_time": "2021-01-31T05:11:21.846394",
   "environment_variables": {},
   "exception": null,
   "input_path": "__notebook__.ipynb",
   "output_path": "__notebook__.ipynb",
   "parameters": {},
   "start_time": "2021-01-31T05:10:59.740797",
   "version": "2.2.2"
  }
 },
 "nbformat": 4,
 "nbformat_minor": 4
}
